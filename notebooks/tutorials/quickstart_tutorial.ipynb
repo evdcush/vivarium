{
 "cells": [
  {
   "cell_type": "markdown",
   "id": "5ebe810c-58f6-4c3e-8e03-7eb2736cb2ec",
   "metadata": {},
   "source": [
    "# Quickstart tutorial: Enter the _Vivarium_\n",
    "\n",
    "Welcome to this notebook! It will explain how to start the simulation server and the web interface, as well as how to interact with the simulation using simple Python code from a Jupyter notebook.\n",
    "\n",
    "Make sure to first follow the [installation instruction in the README of the repository](https://github.com/flowersteam/vivarium?tab=readme-ov-file#-installation). Note that you don't need to run the server and interface from the command line before running this notebook, as it will do it for you."
   ]
  },
  {
   "cell_type": "markdown",
   "id": "667932c1",
   "metadata": {},
   "source": [
    "## Controlling the simulator programmatically"
   ]
  },
  {
   "cell_type": "markdown",
   "id": "083f5a2d",
   "metadata": {},
   "source": [
    "### In case you are note familiar with Python and Jupyter Notebooks\n",
    "\n",
    "We will use the Python language to control the simulator, a widely-used programming language which has the advantage to be easy to learn, with modern interactive programming tools. The document you are currently reading is a Jupyter Notebook, which is a web-based interface to the Python interpreter. \n",
    "\n",
    "This means that this document is interactive. For example if you are not familiar with such tools, try to execute the code below by clicking on it and pressing `Shift + Enter`:"
   ]
  },
  {
   "cell_type": "code",
   "execution_count": 1,
   "id": "cf456343",
   "metadata": {},
   "outputs": [
    {
     "data": {
      "text/plain": [
       "2"
      ]
     },
     "execution_count": 1,
     "metadata": {},
     "output_type": "execute_result"
    }
   ],
   "source": [
    "1 + 1"
   ]
  },
  {
   "cell_type": "markdown",
   "id": "540fd4b2-cbb6-4466-b97a-6a5604032f4d",
   "metadata": {},
   "source": [
    "This will print the result of the operation. Of course we can do much more complicated things with this language (you can look at this [short introduction](https://docs.python.org/3/tutorial/introduction.html) to learn the very basics). In our practical sessions we will use the Python language for controlling the simulator."
   ]
  },
  {
   "cell_type": "markdown",
   "id": "2e1769db-bf5a-4fd6-a567-93c7fe31c1ad",
   "metadata": {},
   "source": [
    "### Starting the simulator\n",
    "\n",
    "Let's run a simulation on your machine, and connect to it with this Jupyter Notebook document. The command below imports the library written for this purpose. As for the previous cell, click on the code below and press `Shift + Enter` to execute it. In the following, we will not repeat this last sentence, just execute the code in each cell which contains some code (unless not to do it is explicitly specified)."
   ]
  },
  {
   "cell_type": "code",
   "execution_count": 1,
   "id": "8a5ed0fc",
   "metadata": {},
   "outputs": [],
   "source": [
    "from vivarium.controllers.notebook_controller import NotebookController\n",
    "from vivarium.utils.handle_server_interface import start_server_and_interface, stop_server_and_interface"
   ]
  },
  {
   "cell_type": "markdown",
   "id": "50d7c16e",
   "metadata": {},
   "source": [
    "Nothing happens, it's normal. Don't worry if you don't understand the meaning of this code, just consider it as a necessary step before being able to launch the simulator and interact with it. Now we will launch the simulator and the interface with the following command. The \"quickstart\" argument stands for the [quickstart scene](../../conf/scene/quickstart.yaml) that defines the initial state of the simulator."
   ]
  },
  {
   "cell_type": "code",
   "execution_count": null,
   "id": "42c41259",
   "metadata": {},
   "outputs": [],
   "source": [
    "start_server_and_interface(scene_name=\"quickstart\")"
   ]
  },
  {
   "cell_type": "markdown",
   "id": "fe38ea75",
   "metadata": {},
   "source": [
    "This notebook cell is used to start the simulator and the interface. To open the interface in your browser, simply click on the link printed above (it should be http://localhost:5006/run_interface). This will open a new tab (in addition to the current one), we recommend to place each tab in a seperate browser window such that you can see both side by side. Once opened, the interface in your browser should look like this:\n",
    "\n",
    "![interface](../../images/quickstart_notebook.png \"quickstart notebook scene\")\n",
    "\n",
    "If you haven't don't it yet, we recommend to have a look now at the [web interface tutorial](web_interface_tutorial.md). It will enable you to get familiar with the entities of the environment (the agents and the objects), and explain you how to observe and control them from the interface. Once you have done it you can come back here.\n",
    "\n",
    "In order to interact with the simulator from this notebook, we will use a custom python object called a `controller`. To create it let's execute the next cell, which will connect this notebook to the simulator."
   ]
  },
  {
   "cell_type": "code",
   "execution_count": null,
   "id": "1208254c",
   "metadata": {},
   "outputs": [],
   "source": [
    "controller = NotebookController()"
   ]
  },
  {
   "cell_type": "markdown",
   "id": "99074eda-7734-44b6-835d-beb844600b33",
   "metadata": {},
   "source": [
    "The newly created `controller` object provides all the functionalities to easily interact with the simulator server. We can now start the simulation with the following cell, and any modification to the controller will be reflected in real time in the simulator interface."
   ]
  },
  {
   "cell_type": "code",
   "execution_count": 4,
   "id": "44cc56f7",
   "metadata": {},
   "outputs": [],
   "source": [
    "controller.run()"
   ]
  },
  {
   "cell_type": "markdown",
   "id": "d3207242",
   "metadata": {},
   "source": [
    "It is normal if nothing happens at the moment. We can also stop the simulation at any time by executing the following instruction:"
   ]
  },
  {
   "cell_type": "code",
   "execution_count": null,
   "id": "8cfcccf3",
   "metadata": {},
   "outputs": [],
   "source": [
    "controller.stop()"
   ]
  },
  {
   "cell_type": "markdown",
   "id": "7c782e24",
   "metadata": {},
   "source": [
    "However, this will cause the changes made in this notebook to no longer reflect on the interface, so let's start it again:"
   ]
  },
  {
   "cell_type": "code",
   "execution_count": 6,
   "id": "968f152b",
   "metadata": {},
   "outputs": [],
   "source": [
    "controller.run()"
   ]
  },
  {
   "cell_type": "markdown",
   "id": "037839d2",
   "metadata": {},
   "source": [
    "Great the simulation is running! But nothing is moving yet because we haven't given any order to the agents. We will now do that in the next part of the notebook. First, let's see how we can access the agents and objects in the simulation. The following cells will show you how to do that."
   ]
  },
  {
   "cell_type": "code",
   "execution_count": 7,
   "id": "15b13aa0-f6fa-4767-9f4e-8789e9e9827c",
   "metadata": {
    "tags": []
   },
   "outputs": [
    {
     "data": {
      "text/plain": [
       "[<vivarium.controllers.notebook_controller.Agent at 0x3713091b0>,\n",
       " <vivarium.controllers.notebook_controller.Agent at 0x3712e4ca0>,\n",
       " <vivarium.controllers.notebook_controller.Agent at 0x3712fdff0>]"
      ]
     },
     "execution_count": 7,
     "metadata": {},
     "output_type": "execute_result"
    }
   ],
   "source": [
    "controller.agents"
   ]
  },
  {
   "cell_type": "markdown",
   "id": "59bffcb1-df5e-4aab-a11f-ad7d952e702f",
   "metadata": {},
   "source": [
    "This is a list of `Agent` objects, one per agent in the environment. Since we have 3 agents in the simulation (visualized as three blue circles in the interface), we have 3 items in the above list. Let's access the configuration of the first agent in this list and look at its attribute using the `print_infos()` function below. Note that in Python, list items are indexed from 0, so `controller.agents[0]` refer to the first agent in the list."
   ]
  },
  {
   "cell_type": "code",
   "execution_count": 8,
   "id": "5b79d2cb",
   "metadata": {},
   "outputs": [
    {
     "name": "stdout",
     "output_type": "stream",
     "text": [
      "Entity Overview:\n",
      "--------------------\n",
      "Type: AGENT\n",
      "Subtype: agents\n",
      "Idx: 0\n",
      "Exists: True\n",
      "Position: x=196.62, y=63.83\n",
      "Diameter: 10.00\n",
      "Color: #0000ff\n",
      "\n",
      "Sensors: Left=0.00, Right=0.68\n",
      "Motors: Left=0.00, Right=0.00\n",
      "\n"
     ]
    }
   ],
   "source": [
    "controller.agents[0].print_infos()"
   ]
  },
  {
   "cell_type": "markdown",
   "id": "3032273b",
   "metadata": {},
   "source": [
    "The cell above prints diverse information about the first agent, including its position, diameter, color, as well as its current sensor and motor activations. We will explain all this in more detail soon.\n",
    "\n",
    "We can do the same with objects, which are stored in the `controller.objects` list. Let's access the fourth object (i.e. index 3) in the list and look at its configuration:"
   ]
  },
  {
   "cell_type": "code",
   "execution_count": 9,
   "id": "5d06af92",
   "metadata": {},
   "outputs": [
    {
     "name": "stdout",
     "output_type": "stream",
     "text": [
      "Entity Overview:\n",
      "--------------------\n",
      "Type: OBJECT\n",
      "Subtype: small_objects\n",
      "Idx: 6\n",
      "Exists: True\n",
      "Position: x=2.36, y=82.11\n",
      "Diameter: 5.00\n",
      "Color: #ffa500\n",
      "\n"
     ]
    }
   ],
   "source": [
    "controller.objects[3].print_infos()"
   ]
  },
  {
   "cell_type": "markdown",
   "id": "2f207c69",
   "metadata": {},
   "source": [
    "### Modifying the entities attributes\n",
    "\n",
    "We will now see how to interact with agents and objects by modifying their attributes (e.g color, size). We have printed above the value of different attributes of the agent, for example its position, diameter or color. Let's make the first agent (index 0) larger by increasing its `diameter` attribute: "
   ]
  },
  {
   "cell_type": "code",
   "execution_count": 10,
   "id": "8f804102-4c3b-489d-9844-9b16cee638b7",
   "metadata": {
    "tags": []
   },
   "outputs": [],
   "source": [
    "controller.agents[0].diameter = 20"
   ]
  },
  {
   "cell_type": "markdown",
   "id": "2ff602fe-fcc2-455b-b3cd-7571a5ca7226",
   "metadata": {},
   "source": [
    "If you now look at the web interface, you should see that one of the agent is now twice larger than the others. All changes made in this notebook will be automatically visible in the web interface if the server is running, and vice versa. One can for example also change the color of an agent, let's do it on the third agent in the list now (i.e. the agent with index 2):"
   ]
  },
  {
   "cell_type": "code",
   "execution_count": 11,
   "id": "2b2dbb14-c8b0-41af-aea9-8a2b6036615e",
   "metadata": {
    "tags": []
   },
   "outputs": [],
   "source": [
    "controller.agents[2].color = 'green'"
   ]
  },
  {
   "cell_type": "markdown",
   "id": "330833ae-e938-4c68-9952-9ce4e4be2f7a",
   "metadata": {
    "tags": []
   },
   "source": [
    "The same principles apply to objects. Let's change the color of the 8th object in the list (index 7) and change its position. We can do this by modifying the `x_position` and `y_position` of the entity: "
   ]
  },
  {
   "cell_type": "code",
   "execution_count": 12,
   "id": "d5bd991f",
   "metadata": {},
   "outputs": [],
   "source": [
    "controller.objects[7].color = 'cyan'"
   ]
  },
  {
   "cell_type": "code",
   "execution_count": 13,
   "id": "02e2b190",
   "metadata": {},
   "outputs": [],
   "source": [
    "controller.objects[7].x_position = 100\n",
    "controller.objects[7].y_position = 100"
   ]
  },
  {
   "cell_type": "markdown",
   "id": "4254a8db",
   "metadata": {},
   "source": [
    "### Controlling the agent's movement\n",
    "\n",
    "We can modify the appearance of the agents, but we can also decide how they move. In order to move, agents are equipped with two wheels on their left and right side, that are powered by motors. You can access these motor activations with the attributes `left_motor` and `right_motor`. These values are between 0 (motors are stopped) and 1 (maximum motor activation). For now, let's set the speed of the left wheel of the first agent to maximum speed, by modifying its motor value:"
   ]
  },
  {
   "cell_type": "code",
   "execution_count": 14,
   "id": "871703e0",
   "metadata": {},
   "outputs": [],
   "source": [
    "controller.agents[0].left_motor = 1."
   ]
  },
  {
   "cell_type": "markdown",
   "id": "bf2cdd3d",
   "metadata": {},
   "source": [
    "You should now see the agent spinning. To make it move in a straight line, we need to set the other wheel to the same speed, with the following command:"
   ]
  },
  {
   "cell_type": "code",
   "execution_count": 15,
   "id": "6fdc829e",
   "metadata": {},
   "outputs": [],
   "source": [
    "controller.agents[0].right_motor = 1."
   ]
  },
  {
   "cell_type": "markdown",
   "id": "0dd456df",
   "metadata": {},
   "source": [
    "We can reset the motors of the agent (setting both to 0) with this instruction:"
   ]
  },
  {
   "cell_type": "code",
   "execution_count": 16,
   "id": "b4581d51",
   "metadata": {},
   "outputs": [],
   "source": [
    "controller.agents[0].left_motor = controller.agents[0].right_motor = 0."
   ]
  },
  {
   "cell_type": "markdown",
   "id": "e4dbecc0",
   "metadata": {},
   "source": [
    "We can also read the current values of the motors with:"
   ]
  },
  {
   "cell_type": "code",
   "execution_count": 17,
   "id": "0a3b6f19",
   "metadata": {},
   "outputs": [
    {
     "data": {
      "text/plain": [
       "0.0"
      ]
     },
     "execution_count": 17,
     "metadata": {},
     "output_type": "execute_result"
    }
   ],
   "source": [
    "controller.agents[0].left_motor"
   ]
  },
  {
   "cell_type": "markdown",
   "id": "e5ad1b0b",
   "metadata": {},
   "source": [
    "### Accessing the agents' sensor values\n",
    "\n",
    "In order to perceive their environment, the agents also come with two sensors on their left and right sides. You can access them with the `right_prox` and `left_prox` attributes. They activate when the agent approaches and detects another entity. The closer the entity, the higher the sensor value, with an activation of 0 when no entity is sensed in the agent's field of view, and 1 when the entity is at the closest possible distance.\n",
    "\n",
    "We can read the value of the left sensor of the first agent with:"
   ]
  },
  {
   "cell_type": "code",
   "execution_count": null,
   "id": "eca163da",
   "metadata": {},
   "outputs": [],
   "source": [
    "controller.agents[0].left_prox"
   ]
  },
  {
   "cell_type": "markdown",
   "id": "1e549cf0-cbf8-48e5-b749-2f7c4f281ab8",
   "metadata": {},
   "source": [
    "and the one of the right sensor with:"
   ]
  },
  {
   "cell_type": "code",
   "execution_count": null,
   "id": "21080bfe-d7e9-4a71-9065-268be8c21c4b",
   "metadata": {},
   "outputs": [],
   "source": [
    "controller.agents[0].right_prox"
   ]
  },
  {
   "cell_type": "markdown",
   "id": "0fd17357",
   "metadata": {},
   "source": [
    "You can check in the interface if these values make sense. The sensors are represented by the small red points in front of the agents, and they activate when they detect another entity in their field of view (depicted by the red half-circle)."
   ]
  },
  {
   "cell_type": "markdown",
   "id": "7e2e4b28-d64d-4a47-961e-4a4e4cb27dbb",
   "metadata": {},
   "source": [
    "## Troubleshooting\n",
    "\n",
    "It can be the case that at one point during the session, the connection is lost and consequently you can't control the simulator anymore. If you experience this problem, follow the steps below. \n",
    "\n",
    "1. Stop the simulator, delete the `controller` object and stop the simulator and inferface (you might be asked to confirm it, in that case just enter `y` for yes):"
   ]
  },
  {
   "cell_type": "code",
   "execution_count": null,
   "id": "3db1add1-fa43-4e7f-a29f-936ecb816b21",
   "metadata": {},
   "outputs": [],
   "source": [
    "controller.stop()\n",
    "del controller\n",
    "stop_server_and_interface()"
   ]
  },
  {
   "cell_type": "markdown",
   "id": "e72d839d-e83b-4cf2-ba59-862790ce6105",
   "metadata": {},
   "source": [
    "2. Restart this notebook from the menu bar.\n",
    "\n",
    "3. Re-import the necessary modules, re-start the simulator and interface, re-create the `controller` object and run it: "
   ]
  },
  {
   "cell_type": "code",
   "execution_count": null,
   "id": "0b13bea9-7153-4305-8b2d-a3b5022f6c0c",
   "metadata": {},
   "outputs": [],
   "source": [
    "from vivarium.controllers.notebook_controller import NotebookController\n",
    "from vivarium.utils.handle_server_interface import start_server_and_interface, stop_server_and_interface\n",
    "\n",
    "start_server_and_interface(scene_name=\"session_1\")\n",
    "controller = NotebookController()\n",
    "controller.run()"
   ]
  },
  {
   "cell_type": "markdown",
   "id": "4f78371e-a379-4a85-8adc-2e991ac45a32",
   "metadata": {},
   "source": [
    "4. Finally, refresh your web browser window with the interface."
   ]
  },
  {
   "cell_type": "markdown",
   "id": "9e6b351f-fd3d-4c80-b769-5c83d935c682",
   "metadata": {},
   "source": [
    "These instructions can be found in the [Troubleshooting tutorial](../tutorials/troubleshooting.ipynb), covering also other potential issues."
   ]
  },
  {
   "cell_type": "markdown",
   "id": "2f127107-436c-4c30-b4a0-ab9dc8b3de22",
   "metadata": {},
   "source": [
    "## Properly closing the session"
   ]
  },
  {
   "cell_type": "markdown",
   "id": "d20defdd",
   "metadata": {},
   "source": [
    "Before closing the notebook, make sure to stop the controller, and close the simulator server and interface, by running the next cell. It will ask you to confirm that you want to stop the simulation with an `input` function. You can type `y` and press `Enter` to confirm. This will automatically shut down the simulator. "
   ]
  },
  {
   "cell_type": "code",
   "execution_count": null,
   "id": "e41a3e19",
   "metadata": {},
   "outputs": [],
   "source": [
    "controller.stop()\n",
    "stop_server_and_interface()"
   ]
  },
  {
   "cell_type": "markdown",
   "id": "cce5b8e2",
   "metadata": {},
   "source": [
    "Good job on finishing this tutorial ! You can now: \n",
    "\n",
    "- start doing the first educational Notebook session by clicking [here](../sessions/session_1.ipynb). \n",
    "- explore [the tutorials](../tutorials/) directory to discover more resources on how to use the project."
   ]
  }
 ],
 "metadata": {
  "kernelspec": {
   "display_name": "Python 3 (ipykernel)",
   "language": "python",
   "name": "python3"
  },
  "language_info": {
   "codemirror_mode": {
    "name": "ipython",
    "version": 3
   },
   "file_extension": ".py",
   "mimetype": "text/x-python",
   "name": "python",
   "nbconvert_exporter": "python",
   "pygments_lexer": "ipython3",
   "version": "3.10.14"
  }
 },
 "nbformat": 4,
 "nbformat_minor": 5
}
