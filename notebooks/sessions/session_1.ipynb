{
 "cells": [
  {
   "cell_type": "markdown",
   "metadata": {},
   "source": [
    "# Practical session 1: First steps with the simulator"
   ]
  },
  {
   "cell_type": "markdown",
   "metadata": {},
   "source": [
    "Welcome to the first practical session! In case you haven't done it yet, **first follow** the [`quickstart_tutorial`](../tutorials/quickstart_tutorial.ipynb), which explains the basics of how to control the simulator using a Jupyter Notebook. Once it is done you can come back here.\n",
    "\n",
    "Before starting this session, we recommend that you first make a copy of the current notebook and work on this copy. This will make things easier in case we need to update the notebook contents during the course. To do so, use `File -> Duplicate Notebook`. This will create a new notebook suffixed by `Copy1`, highlighted on the file explorer on the left. Right-click on this file and select `Rename`, replacing `Copy1` with your name (e.g. `session_1-YourName.ipynb`). Then close the current notebook, open the new one you have just renamed and work on this new one. \n",
    "\n",
    "Important note if you are working from a university computer: it is well possible that the files you store on the computer are not persistent across sessions, which means that if you log out, all the files you have stored will most likely have disappeared next time you will log in. In that case, make sure to systematically save your work either on a USB stick or by sending it to your own email address before logging out. Typically, the file you want to save will be the current document, which is located at `<PATH_TO_VIVARIUM_REPO>/notebooks/sessions` (where `<PATH_TO_VIVARIUM_REPO>` is the directory where you have installed the Viviarum library).\n",
    "\n",
    "Now, we will start to implement basic behaviors.\n",
    "\n",
    "Each practical session corresponds to a Jupyter Notebook like this one, where you will find text explaining concepts and methods, as well as questions to be answered (indicated as Q1, Q2 etc...). Questions have to be answered directly in the notebook. Once you have completed a session, you can deliver this notebook file. It is located on your computer in the directory `<PATH_TO_VIVARIUM_REPO>/notebooks/sessions`.\n",
    "\n",
    "Each time you encounter a cell containing code in this notebook (those with a light grey background, e.g. the cell starting with `from vivarium.controllers...` below), you have to execute it by clicking on the cell and pressing `Shift+Enter` (unless it is explicitly specified not to do it)."
   ]
  },
  {
   "cell_type": "markdown",
   "metadata": {},
   "source": [
    "Let's then execute the following cell to import the necessary modules and functions:"
   ]
  },
  {
   "cell_type": "code",
   "execution_count": 2,
   "metadata": {},
   "outputs": [],
   "source": [
    "from vivarium.controllers.notebook_controller import NotebookController\n",
    "from vivarium.utils.handle_server_interface import start_server_and_interface, stop_server_and_interface"
   ]
  },
  {
   "cell_type": "markdown",
   "metadata": {},
   "source": [
    "Execute the following cell to start the simulator and the interface. We will use a scene called `session_1`. As explained in the quickstart tutorial, the scene is a YAML file that contains the configuration of the environment, you can find it [here](../../conf/scene/session_1.yaml) in the `conf/scene` directory (but you don't need to understand it)."
   ]
  },
  {
   "cell_type": "code",
   "execution_count": null,
   "metadata": {},
   "outputs": [],
   "source": [
    "start_server_and_interface(scene_name=\"session_1\")"
   ]
  },
  {
   "cell_type": "markdown",
   "metadata": {},
   "source": [
    "The command above starts both the simulator and the interface. If you have a warning under the notebook cell, it is normal and you can just ignore it. Click on the link displayed in the cell output in order to open the interface in your favorite web browser (the link looks like `http://localhost:5006/run_interface`). We recommend to open the interface in a separate window so that you see both this notebook and the interface side by side."
   ]
  },
  {
   "cell_type": "markdown",
   "metadata": {},
   "source": [
    "Now, we can instantiate a `controller` object, which will enable controlling the simulator from this notebook. This whole process will be done at the start of every notebook from now on."
   ]
  },
  {
   "cell_type": "code",
   "execution_count": null,
   "metadata": {},
   "outputs": [],
   "source": [
    "controller = NotebookController()"
   ]
  },
  {
   "cell_type": "markdown",
   "metadata": {},
   "source": [
    "This time, only one agent should be present. We can check this with this instruction:"
   ]
  },
  {
   "cell_type": "code",
   "execution_count": null,
   "metadata": {},
   "outputs": [],
   "source": [
    "controller.agents"
   ]
  },
  {
   "cell_type": "markdown",
   "metadata": {},
   "source": [
    "Indeed, the list contains a single `Agent` object."
   ]
  },
  {
   "cell_type": "markdown",
   "metadata": {},
   "source": [
    "Next, we start the simulation:"
   ]
  },
  {
   "cell_type": "code",
   "execution_count": 6,
   "metadata": {},
   "outputs": [],
   "source": [
    "controller.run()"
   ]
  },
  {
   "cell_type": "markdown",
   "metadata": {},
   "source": [
    "Nothing should move for now, this is normal as the agents have all their motors stopped."
   ]
  },
  {
   "cell_type": "markdown",
   "metadata": {},
   "source": [
    "### Making the agents move\n",
    "\n",
    "As there is only one agent, we can create an alias variable for easily accessing it:"
   ]
  },
  {
   "cell_type": "code",
   "execution_count": 7,
   "metadata": {},
   "outputs": [],
   "source": [
    "agent = controller.agents[0]"
   ]
  },
  {
   "cell_type": "markdown",
   "metadata": {},
   "source": [
    "The variable `agent` now refers to the first (and only) agent of the simulation. You can simply write `agent` instead of `controller.agents[0]` for the next instructions.\n",
    "\n",
    "We have seen in the [quickstart tutorial](../tutorials/quickstart_tutorial.ipynb) how to set an agent's attributes. Let's modify the agent diameter and color:"
   ]
  },
  {
   "cell_type": "code",
   "execution_count": 8,
   "metadata": {},
   "outputs": [],
   "source": [
    "agent.diameter = 10."
   ]
  },
  {
   "cell_type": "code",
   "execution_count": 9,
   "metadata": {},
   "outputs": [],
   "source": [
    "agent.color = 'orange'"
   ]
  },
  {
   "cell_type": "markdown",
   "metadata": {},
   "source": [
    "In the web interface we see that the agent has indeed changed diameter and color. \n",
    "\n",
    "We can print relevant information about the agent using:"
   ]
  },
  {
   "cell_type": "code",
   "execution_count": 10,
   "metadata": {},
   "outputs": [
    {
     "name": "stdout",
     "output_type": "stream",
     "text": [
      "Entity Overview:\n",
      "--------------------\n",
      "Type: AGENT\n",
      "Subtype: agents\n",
      "Idx: 0\n",
      "Exists: True\n",
      "Position: x=11.15, y=34.80\n",
      "Diameter: 10.00\n",
      "Color: #ffa500\n",
      "\n",
      "Sensors: Left=0.00, Right=-0.00\n",
      "Motors: Left=0.00, Right=0.00\n",
      "\n"
     ]
    }
   ],
   "source": [
    "agent.print_infos()"
   ]
  },
  {
   "cell_type": "markdown",
   "metadata": {},
   "source": [
    "Practical sessions usually contain questions (Q1, Q2 ... below) that you can answer directly in the notebook. Some questions require an answer in text form (e.g. Q1 below), while others require to write code (e.g. Q2 below). In the first case we will use Markdown cells and in the second case we will use Python cells. \n",
    "\n",
    "Remember we explained in the [quickstart tutorial](../tutorials/quickstart_tutorial.ipynb) that the agents have two wheels powered by motors. You can set the value of these motors between 0 and 1 to activate the wheels of the agents, with the `left_motor` and `right_motor` attributes.\n",
    "\n",
    "**Q1:** What is the condition for the agent to turn left? to turn right? to move straight forward? to stop?"
   ]
  },
  {
   "cell_type": "markdown",
   "metadata": {},
   "source": [
    "*This is a cell where you can write text instead of code.* Double click on this text and enter your answer here. Once it is done, press `Shift-Enter`."
   ]
  },
  {
   "cell_type": "markdown",
   "metadata": {},
   "source": [
    "**Q2:** How can you make the agent move forward without any rotation? Write the corresponding code in the cell below. "
   ]
  },
  {
   "cell_type": "code",
   "execution_count": null,
   "metadata": {},
   "outputs": [],
   "source": [
    "# your code here"
   ]
  },
  {
   "cell_type": "markdown",
   "metadata": {},
   "source": [
    "**Q3:** Now write the code making the agent stop:"
   ]
  },
  {
   "cell_type": "code",
   "execution_count": null,
   "metadata": {},
   "outputs": [],
   "source": [
    "# your code here"
   ]
  },
  {
   "cell_type": "markdown",
   "metadata": {},
   "source": [
    "**Q4:** And the code to make it move in a large circle:"
   ]
  },
  {
   "cell_type": "code",
   "execution_count": null,
   "metadata": {},
   "outputs": [],
   "source": [
    "# your code here"
   ]
  },
  {
   "cell_type": "markdown",
   "metadata": {},
   "source": [
    "Let's now stop the agent. This can be done either by setting the motor values (as asked above), or using this shortcut command:"
   ]
  },
  {
   "cell_type": "code",
   "execution_count": null,
   "metadata": {},
   "outputs": [],
   "source": [
    "agent.stop_motors()"
   ]
  },
  {
   "cell_type": "markdown",
   "metadata": {},
   "source": [
    "Let's try more complex choregraphies. A useful function for this is the ability to wait for a given time by using `controller.wait(x)`, where `x` has to be replaced by the time to wait for, in seconds. Here is an example, where the agent goes forward during 3 seconds, then turns right during 0.5 second, then goes forward again during 2 seconds, and finally stops."
   ]
  },
  {
   "cell_type": "code",
   "execution_count": 13,
   "metadata": {},
   "outputs": [],
   "source": [
    "# Move forward, by setting each wheel speed at the same positive value\n",
    "agent.left_motor = 1.\n",
    "agent.right_motor = 1.\n",
    "\n",
    "# Wait for 3 seconds, keeping moving forward at the same speed\n",
    "controller.wait(3)\n",
    "\n",
    "# Turn right by setting a positive speed to the left wheel and stoping the right one (null speed)\n",
    "agent.left_motor = 0.5\n",
    "agent.right_motor = 0.\n",
    "\n",
    "# Keep turning for 0.5 second\n",
    "controller.wait(0.5)\n",
    "\n",
    "# Move forward again for 3 seconds\n",
    "agent.left_motor = 1.\n",
    "agent.right_motor = 1.\n",
    "controller.wait(3)\n",
    "\n",
    "# Stop the agent\n",
    "agent.left_motor = 0.\n",
    "agent.right_motor = 0."
   ]
  },
  {
   "cell_type": "markdown",
   "metadata": {},
   "source": [
    "A few important remarks regarding the code above:\n",
    "- each line beginning with a `#` symbol corresponds to a comment and will therefore not be executed (it is just to explain verbally what the code does),\n",
    "- when calling `controller.wait(.)`, the cell that is currently running will simply wait for the given time in seconds before executing the next line of code. This also means that you cannot execute anything else before the wait time is over.\n",
    "\n",
    "Now, let's repeat the previous choreography 4 times. In the code below, the first line, `for i in range(4):`, means *repeat 4 times the indented code below* (actually it is slightly more complicated than this, but this out of the scope of the current session).  The indented code is the exact same as just before (only the comments have been removed). You can change the number `4` in the first line by any number `x`, to repeat it `x` times instead of 4."
   ]
  },
  {
   "cell_type": "code",
   "execution_count": null,
   "metadata": {},
   "outputs": [],
   "source": [
    "for i in range(4):\n",
    "    agent.left_motor = 1.\n",
    "    agent.right_motor = 1.\n",
    "    controller.wait(3)\n",
    "    agent.left_motor = 1.\n",
    "    agent.right_motor = 0.\n",
    "    controller.wait(0.5)\n",
    "    agent.left_motor = 1.\n",
    "    agent.right_motor = 1.\n",
    "    controller.wait(2)\n",
    "    agent.left_motor = 0.\n",
    "    agent.right_motor = 0."
   ]
  },
  {
   "cell_type": "markdown",
   "metadata": {},
   "source": [
    "**Q5:** By executing the code just above, you will observe that the agent actually only stops at the very end of the choreography, but not between each run of the loop. Copy-paste the code of the last cell above in the cell below and add one line of code so that the agent will stop for 1 second at each run of the loop."
   ]
  },
  {
   "cell_type": "code",
   "execution_count": null,
   "metadata": {},
   "outputs": [],
   "source": [
    "# your code here"
   ]
  },
  {
   "cell_type": "markdown",
   "metadata": {},
   "source": [
    "**Q6:** Write the code allowing the agent to move roughly in a \"8\" shape. To do so you'll have to fine tune the waiting times by trial on error. Then make the agent repeat it 6 times."
   ]
  },
  {
   "cell_type": "code",
   "execution_count": null,
   "metadata": {},
   "outputs": [],
   "source": [
    "# your code here"
   ]
  },
  {
   "cell_type": "markdown",
   "metadata": {},
   "source": [
    "### Sensors"
   ]
  },
  {
   "cell_type": "markdown",
   "metadata": {},
   "source": [
    "As shown in the [quickstart tutorial](../tutorials/quickstart_tutorial.ipynb) the agents are equipped with proximity sensors, called proximeters, that indicate the presence of an entity (e.g. an agent or an object), if any, in a particular direction. There are two proximeters, one on each side of the agent, that detects entities in a hemi-field show in red in the interface. They are visible in the interface as two disk quarters in red, one on the left side of the agent and one on the right side, indicating the agent field of view. "
   ]
  },
  {
   "cell_type": "markdown",
   "metadata": {},
   "source": [
    "Using the commands learned before, move the front of the robot close to an object in the scene and stop it. Alternatively, you can simply move the agent using drag&drop (see the [web interface tutorial](../tutorials/web_interface_tutorial.md))."
   ]
  },
  {
   "cell_type": "code",
   "execution_count": null,
   "metadata": {},
   "outputs": [],
   "source": []
  },
  {
   "cell_type": "markdown",
   "metadata": {},
   "source": [
    "Whenever a proximeter detects an obstacle, a red point is shown on the agent (if the `visible proximeters` checkbox is enabled, see the [web interface tutorial](../tutorials/web_interface_tutorial.md)). The opacity of the point depends on the activation of the sensor, so it can be hard to see if the entity is far away. Note that each proximeter detects only the closest object within its own field of view (indicated by the red lines). The current activation of the two front proximeters can be accessed with:"
   ]
  },
  {
   "cell_type": "code",
   "execution_count": null,
   "metadata": {},
   "outputs": [],
   "source": [
    "agent.sensors()"
   ]
  },
  {
   "cell_type": "markdown",
   "metadata": {},
   "source": [
    "This command returns an `array`, i.e. a vector of numerical values. Here we see two values: the first one corresponds to the activity of the left proximeter, the second to the activity of the right one. Those values do NOT correspond to distances, but are instead activation values bounded between 0 and 1, where 0 indicates that no obstacle is perceived (i.e. the proximeter doesn't detect any object withing its field of view), and 1 indicates that an object is in contact with the proximeter. In other word, the higher the activation, the closer the object (inversely proportional to the object distance). \n",
    "\n",
    "Make sure that you are able to identify which sensor corresponds to which value. "
   ]
  },
  {
   "cell_type": "markdown",
   "metadata": {},
   "source": [
    "You can store the values returned by `agent.sensors()` in two distinct variables, which will facilitate using them for further computation. If you execute the following command:"
   ]
  },
  {
   "cell_type": "code",
   "execution_count": 14,
   "metadata": {},
   "outputs": [],
   "source": [
    "left, right = agent.sensors()"
   ]
  },
  {
   "cell_type": "markdown",
   "metadata": {},
   "source": [
    "Then the variables `left` and `right` will contain the activations of the left and right proximeters, respectively. You can check their values using the `print` instruction:"
   ]
  },
  {
   "cell_type": "code",
   "execution_count": null,
   "metadata": {},
   "outputs": [],
   "source": [
    "print(left)"
   ]
  },
  {
   "cell_type": "code",
   "execution_count": null,
   "metadata": {},
   "outputs": [],
   "source": [
    "print(right)"
   ]
  },
  {
   "cell_type": "markdown",
   "metadata": {},
   "source": [
    "**However**, the values in `left` and `right` will not be updated if the proximeter activations change over time. To experience it, move the agent in a different location in the scene where the proximeter activations should be different, and re-execute the `print` commands above. You will observe that the printed values are the same as before, whereas the proximeter activities should be different. In order to refresh the values in the `left` and `right` variables, you need to re-execute the command `left, right = agent.sensors()`:"
   ]
  },
  {
   "cell_type": "code",
   "execution_count": null,
   "metadata": {},
   "outputs": [],
   "source": [
    "left, right = agent.sensors()\n",
    "print(left, right)"
   ]
  },
  {
   "cell_type": "markdown",
   "metadata": {},
   "source": [
    "Now you see that the values have been updated correctly."
   ]
  },
  {
   "cell_type": "markdown",
   "metadata": {},
   "source": [
    "**Q7:** To complete this session, write a behavior that connects sensors to motors, so that the robot goes forward at a speed that depends on the maximum activity of both proximity sensors. The closer the robot is from an obstacle, the slower it should go (but always going forward, without rotation). Remember that proximeter values have to be refreshed explicitly each time we need to observe them by calling `left, right = agent.sensors()` To do so, use the `for` loop construction we have seen, this time with a large number of iterations (e.g. 300). The code structure of this behavior can look like (complete the missing part):"
   ]
  },
  {
   "cell_type": "code",
   "execution_count": null,
   "metadata": {},
   "outputs": [],
   "source": [
    "\n",
    "# Repeat 300 times:\n",
    "for i in range(300):\n",
    "\n",
    "    # Read the proximeter values and store them in the left and right variables\n",
    "    left, right = agent.sensors()\n",
    "\n",
    "    # Compute the maximum activity of both sensors\n",
    "    max_val = max(left, right)\n",
    "\n",
    "    # Write your code below, which has to set the wheel speeds according to the max of left and right in order to follow the behavior specification explained above\n",
    "    # Remember to keep your code indented, otherwise it will not be considered as part of the for loop\n",
    "    # Also remember that the motor values should be between 0 and 1 (hint: the returned sensor values are always between 0 and 1)\n",
    "    \n",
    "\n",
    "    \n",
    "    # Keep the line below at the end of the loop. It waits for 100 milliseconds before starting the next iteration (to avoid overloading you computer)\n",
    "    controller.wait(0.1)"
   ]
  },
  {
   "cell_type": "markdown",
   "metadata": {},
   "source": [
    "The code above will take a while to be executed (approximately `300 * 0.1 = 30` seconds). During this time, you can't execute anything else in this notebook (we'll see how to solve this in the next session). If you want to stop the execution before it terminates by itself, press the \"stop-like\" button which is located either in the top menu bar of this notebook, or next to the executed code cell. \n",
    "\n",
    "In the next practical session, we will see more fancy ways of defining reactive behaviours for the robot. And in the next ones, still more and more fancy stuffs.\n",
    "\n",
    "**Important:** At the end of each session, don't forget to close the simulator session by executing (you might be asked to confirm it, in that case just enter `y`for yes):"
   ]
  },
  {
   "cell_type": "code",
   "execution_count": null,
   "metadata": {},
   "outputs": [],
   "source": [
    "controller.stop()\n",
    "stop_server_and_interface()"
   ]
  },
  {
   "cell_type": "markdown",
   "metadata": {},
   "source": [
    "Now that you finished session 1, you can now jump to the notebook of [session 2](session_2.ipynb)."
   ]
  }
 ],
 "metadata": {
  "kernelspec": {
   "display_name": "Python 3 (ipykernel)",
   "language": "python",
   "name": "python3"
  },
  "language_info": {
   "codemirror_mode": {
    "name": "ipython",
    "version": 3
   },
   "file_extension": ".py",
   "mimetype": "text/x-python",
   "name": "python",
   "nbconvert_exporter": "python",
   "pygments_lexer": "ipython3",
   "version": "3.10.14"
  }
 },
 "nbformat": 4,
 "nbformat_minor": 4
}
