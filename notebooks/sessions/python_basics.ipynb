{
 "cells": [
  {
   "cell_type": "markdown",
   "metadata": {},
   "source": [
    "# Python basics\n",
    "\n",
    "This notebook explain a few basic concepts about Python programming.\n",
    "\n",
    "We recommend to first have a look at this short online tutorial, which is pretty well done and quickly introduces the most basic concepts in an interactive way:\n",
    "\n",
    "[Pyhton basics -- Google Colab](https://colab.research.google.com/github/data-psl/lectures2020/blob/master/notebooks/01_python_basics.ipynb)\n",
    "\n",
    "The link above points to an online notebook (like the ones you use in the practical sessions, but thos one doesn't require to install anything). Once you have read it, you can continue with the rest of the current notebook."
   ]
  },
  {
   "cell_type": "markdown",
   "metadata": {},
   "source": [
    "## Enumerate function\n",
    "\n",
    "We used the `enumerate` function in this line of code in session 6: \n",
    "\n",
    "```python\n",
    "for arr_idx, ent_idx in enumerate(eatable_entities_idx):\n",
    "```\n",
    "\n",
    "The [`enumerate` function](https://docs.python.org/3/library/functions.html#enumerate) is used to iterate over a list and provide both the index and the value of each element. It returns an enumerate object, which can be converted to a list of tuples, where each tuple contains the index and the value of the corresponding element. Here, it enables to get the index of the entity in the list of eatable entities, as well as its index in the list of all entities in the simulation.\n",
    "\n",
    "Let's see how it works with a simpler example. We will define a list of strings, and iterate over it with the `enumerate` function to print the index and the value of each element."
   ]
  },
  {
   "cell_type": "code",
   "execution_count": null,
   "metadata": {},
   "outputs": [
    {
     "name": "stdout",
     "output_type": "stream",
     "text": [
      "index: 0, value: A\n",
      "index: 1, value: B\n",
      "index: 2, value: C\n",
      "index: 3, value: D\n"
     ]
    }
   ],
   "source": [
    "list_of_strings = [\"A\", \"B\", \"C\", \"D\"]\n",
    "\n",
    "for i, string in enumerate(list_of_strings):\n",
    "    print(f\"index: {i}, value: {string}\")"
   ]
  },
  {
   "cell_type": "markdown",
   "metadata": {},
   "source": [
    "## List comprehension\n",
    "\n",
    "We use list comprehension in e.g. this line of code in session 6:\n",
    "\n",
    "```python\n",
    "eatable_entities_idx = [ent.idx for ent in controller.all_entities if ent.subtype == entity_type and ent.idx != agent.idx]\n",
    "```\n",
    "\n",
    "This syntax is called a [list comprehension](https://docs.python.org/2/tutorial/datastructures.html#list-comprehensions). Here we use it to create a list of indexes of entities that are of the type `entity_type` and are not the agent itself. Let's explain this concept with a simpler example. We will create a list of the even numbers between 0 to 9 with a for loop, and then with a list comprehension. First to create the list with a for loop, we need to create an empty list, and then append the numbers between 0 and 9 if they are even. We can do it like this:"
   ]
  },
  {
   "cell_type": "code",
   "execution_count": null,
   "metadata": {},
   "outputs": [
    {
     "name": "stdout",
     "output_type": "stream",
     "text": [
      "[0, 2, 4, 6, 8]\n"
     ]
    }
   ],
   "source": [
    "# create an empty list\n",
    "result = []\n",
    "\n",
    "# iterate over the range of 10\n",
    "for i in range (0, 10):\n",
    "    # check if the number is even\n",
    "    if i % 2 == 0:\n",
    "        # append the number to the list\n",
    "        result.append(i)\n",
    "\n",
    "print(result)"
   ]
  },
  {
   "cell_type": "markdown",
   "metadata": {},
   "source": [
    "We can also do it in one line with a list comprehension. The syntax is `[expression for item in iterable if condition]`. In our case, the expression is `i`, the item is `range(10)`, and the condition is `i % 2 == 0`. This is harder to read at first, but it is a very powerful tool in Python to create lists in a more concise way."
   ]
  },
  {
   "cell_type": "code",
   "execution_count": null,
   "metadata": {},
   "outputs": [
    {
     "name": "stdout",
     "output_type": "stream",
     "text": [
      "[0, 2, 4, 6, 8]\n"
     ]
    }
   ],
   "source": [
    "# create the same list using list comprehension\n",
    "result = [i for i in range(0, 10) if i % 2 == 0]\n",
    "print(result)"
   ]
  }
 ],
 "metadata": {
  "language_info": {
   "name": "python"
  }
 },
 "nbformat": 4,
 "nbformat_minor": 2
}
