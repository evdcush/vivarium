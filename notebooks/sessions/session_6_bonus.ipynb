{
 "cells": [
  {
   "cell_type": "markdown",
   "metadata": {},
   "source": [
    "# Session 6 (Bonus): Entity (dis)appearance and simple eco-evolutionary simulation"
   ]
  },
  {
   "cell_type": "markdown",
   "metadata": {},
   "source": [
    "In all precedent sessions, we saw how to control a simulation from a notebook. This was done either by directly controlling the agents, by modifying their behaviors, routines, manipulating their sensors or their diets. We also saw how to control the environment to make resources spawn, start the eating mechanism of agents etc.\n",
    "\n",
    "Now we are going to see how we can combine all these features to implement a simple Eco-Evolutionary simulation ! \n",
    "\n",
    "An eco-evolutionary simulation is a virtual environment where agents interact with each other and their surroundings. Over time, these agents adapt and evolve based on environmental challenges and competition for resources. The simulation implements both ecological processes (like food gathering or predator-prey relationships) and evolutionary changes (agent reproduction and death). To make things a bit simpler, however, we will not really consider the evolutionary aspect here, only the reproductive one.\n",
    "\n",
    "On the practical side, you will learn how to:\n",
    "\n",
    "- Making entities dynamically appear or disappear in the environment\n",
    "- Attach routines to any entity type (in previous sessions we only attached routines to agents, here we will also attach them to objects)\n",
    "- Attach routines to the controller (this can be useful to define environmental routines that are not attached to a specific entity, e.g. to implement a reproduction mechanism)"
   ]
  },
  {
   "cell_type": "markdown",
   "metadata": {},
   "source": [
    "We will start by importing the necessary modules and functions as usual. In this session, we will also use the `numpy` library, which is a powerful library for numerical computing in Python. It provides support for arrays and matrices, along with a collection of mathematical functions to operate on these arrays. You can check the documentation [here](https://numpy.org/doc/stable/). \n",
    "\n",
    "We will also use the `matplotlib` library to change the colors of the entities thanks to the `colors` module. You can check the documentation [here](https://matplotlib.org/stable/contents.html). "
   ]
  },
  {
   "cell_type": "code",
   "execution_count": 1,
   "metadata": {},
   "outputs": [],
   "source": [
    "import numpy as np\n",
    "import matplotlib.colors as colors\n",
    "\n",
    "from vivarium.utils.handle_server_interface import start_server_and_interface, stop_server_and_interface\n",
    "from vivarium.controllers.notebook_controller import NotebookController"
   ]
  },
  {
   "cell_type": "code",
   "execution_count": null,
   "metadata": {},
   "outputs": [],
   "source": [
    "start_server_and_interface(scene_name=\"session_6\")"
   ]
  },
  {
   "cell_type": "markdown",
   "metadata": {},
   "source": [
    "Create and run the controller:"
   ]
  },
  {
   "cell_type": "code",
   "execution_count": null,
   "metadata": {},
   "outputs": [],
   "source": [
    "controller = NotebookController()\n",
    "controller.run()"
   ]
  },
  {
   "cell_type": "markdown",
   "metadata": {},
   "source": [
    "Then, print the different subtypes present in the simulation, you will need this information later:"
   ]
  },
  {
   "cell_type": "code",
   "execution_count": null,
   "metadata": {},
   "outputs": [],
   "source": [
    "controller.print_subtypes_list()"
   ]
  },
  {
   "cell_type": "markdown",
   "metadata": {},
   "source": [
    "As in session 4, we will work with `agents`, `resources`, as well as small and big `obstacles`. We will also define classical braitenberg behaviors in advance, in order to react to other agents' presence, as well as the `obstacle_avoidance` and `foraging` behaviors."
   ]
  },
  {
   "cell_type": "code",
   "execution_count": 5,
   "metadata": {
    "collapsed": true
   },
   "outputs": [],
   "source": [
    "def fear(agent):\n",
    "    left, right = agent.sensors(sensed_entities=[\"agents\"])\n",
    "    left_wheel = left\n",
    "    right_wheel = right\n",
    "    return left_wheel, right_wheel\n",
    "\n",
    "def aggression(agent):\n",
    "    left, right = agent.sensors(sensed_entities=[\"agents\"])\n",
    "    left_wheel = right\n",
    "    right_wheel = left\n",
    "    return left_wheel, right_wheel\n",
    "\n",
    "def love(agent):\n",
    "    left, right = agent.sensors(sensed_entities=[\"agents\"])\n",
    "    left_wheel = 1 - left\n",
    "    right_wheel = 1 - right   \n",
    "    return left_wheel, right_wheel\n",
    "\n",
    "def shyness(agent):\n",
    "    left, right = agent.sensors(sensed_entities=[\"agents\"])\n",
    "    left_wheel = 1 - right\n",
    "    right_wheel = 1 - left   \n",
    "    return left_wheel, right_wheel\n",
    "\n",
    "def obstacle_avoidance(agent):\n",
    "    left, right = agent.sensors(sensed_entities=[\"s_obstacles\", \"b_obstacles\"])\n",
    "    left_wheel = 1 - right\n",
    "    right_wheel = 1 - left   \n",
    "    return left_wheel, right_wheel\n",
    "\n",
    "def foraging(agent):\n",
    "    left, right = agent.sensors(sensed_entities=[\"resources\"])\n",
    "    left_activation = right\n",
    "    right_activation = left\n",
    "    return left_activation, right_activation"
   ]
  },
  {
   "cell_type": "markdown",
   "metadata": {},
   "source": [
    "Additionally, the simiulation might be slow with the default parameters as there are a lot of entities in this scene. You can speed up the simulation by increasing the `Num steps lax` parameter in the web interface (e.g from 6 to 12 or so, see session 4)."
   ]
  },
  {
   "cell_type": "markdown",
   "metadata": {},
   "source": [
    "## Existing and non-existing entities\n",
    "\n",
    "In this session, we will dive deeper into the concept of existing and non existing entities. We already briefly saw this in the end of session 3, where we added an agent to the simulation. Let's first start printing the total number of agents in the simulation:"
   ]
  },
  {
   "cell_type": "code",
   "execution_count": null,
   "metadata": {},
   "outputs": [],
   "source": [
    "n_agents = len(controller.agents)\n",
    "print(f\"Total Number of agents (existing and non-existing): {n_agents}\")"
   ]
  },
  {
   "cell_type": "markdown",
   "metadata": {},
   "source": [
    "The cell above indicates that there are 10 agents in total in our simulation. But in the interface can see only 4 agents (if not, you can uncheck and check again the \"Hide non existing\" checkbox in the SIMULATOR tab of the web interface). If we only see 4 of them at the moment, it is because 6 of them are marked as \"non existing\", which make them invisible to us in the web interface, but also prevents them from interacting with any other entity in the scene (they cannot be sensed or collide with other entities). We can check this with the following command and see which agents are existing or non-existing by accessing their `exists` attribute:"
   ]
  },
  {
   "cell_type": "code",
   "execution_count": null,
   "metadata": {},
   "outputs": [],
   "source": [
    "for agent in controller.agents:\n",
    "    print(f\"agent {agent.idx}: exists = {agent.exists}\")"
   ]
  },
  {
   "cell_type": "markdown",
   "metadata": {},
   "source": [
    "We can indeed observe that only the first 4 agents are existing, they correspond to those that are visible in the interface. We can modify the `existing` attribute by an an agent in order to make a non-existing agent exists, or vice-versa. For instance, we see above that agent 4 is non-existing. Let's make it exist with:"
   ]
  },
  {
   "cell_type": "code",
   "execution_count": 8,
   "metadata": {},
   "outputs": [],
   "source": [
    "agent_idx = 4 # index of a non-existing agent\n",
    "agent = controller.agents[agent_idx]\n",
    "agent.exists = True # make the agent exist"
   ]
  },
  {
   "cell_type": "markdown",
   "metadata": {},
   "source": [
    "Now you should see 5 agents in the interface.\n",
    "\n",
    "You can try to now make it non-existing again, simply by replacing `True` with `False` in the last cell above and re-executing it. Then make it re-exist again."
   ]
  },
  {
   "cell_type": "markdown",
   "metadata": {},
   "source": [
    "We also provide a special function from the controller that handles this for us: `spawn_entity`. It can be used either on an agent or an object. You just need to provide the index of the entity you want to spawn, and can additionally pass a `position` argument in order to make the entity appear at a specific position. For instance if we want to spawn the agent 5 at the coordinates (150, 150), we can do it with the following command:"
   ]
  },
  {
   "cell_type": "code",
   "execution_count": null,
   "metadata": {},
   "outputs": [],
   "source": [
    "agent_idx = 5 # index of a non-existing agent\n",
    "new_agent = controller.spawn_entity(agent_idx, position=[150, 150])"
   ]
  },
  {
   "cell_type": "markdown",
   "metadata": {},
   "source": [
    "The `controller.spawn` method returns the newly existing entity, which in the cell above we store in `new_agent`."
   ]
  },
  {
   "cell_type": "markdown",
   "metadata": {},
   "source": [
    "The same mechanisms can be used to spawn objects. Let's have a look at which objects are existing in our current simulation:"
   ]
  },
  {
   "cell_type": "code",
   "execution_count": null,
   "metadata": {},
   "outputs": [],
   "source": [
    "for object in controller.objects:\n",
    "    print(f\"object {object.idx}: exists = {object.exists}\")"
   ]
  },
  {
   "cell_type": "markdown",
   "metadata": {},
   "source": [
    "We see that e.g. the object with index 17 does not exist. Let's make it appear at position (100, 50) with:"
   ]
  },
  {
   "cell_type": "code",
   "execution_count": 11,
   "metadata": {},
   "outputs": [],
   "source": [
    "object_idx = 17 # index of a non-existing object\n",
    "new_object = controller.spawn_entity(object_idx, position=[100, 50])"
   ]
  },
  {
   "cell_type": "markdown",
   "metadata": {},
   "source": [
    "**Important note: Never position two entities at the exact same place or the simulation will crash.** The reason is that the physics engine will then generate infinite forces.\n",
    "\n",
    "Less important and optional note: Notice that the indexes of objects above (`object.idx`) do not start at 0 as it was the case for the agents, but instead start at 10. The reason is that indexes emcompass all entites, i.e. both agents and objects. Agents occupy the first indexes : since we have 10 agents in total, their indexes are from 0 to 9. Objects occupy the next indexes (after the agents), i.e. starting at 10. Since we have 20 objects in total in this simulation (including existing and non-existing ones), their indexes are from 10 to 29.)"
   ]
  },
  {
   "cell_type": "markdown",
   "metadata": {},
   "source": [
    "Similarly, there is a method in the controller to remove entites from the scene, called `remove_entity`. It also requires the index of the entity you want to remove. For instance, if we want to remove agent 5, we can do it with the following command:"
   ]
  },
  {
   "cell_type": "code",
   "execution_count": 12,
   "metadata": {},
   "outputs": [],
   "source": [
    "agent_idx = 5 # idx of an alive agent\n",
    "controller.remove_entity(agent_idx)"
   ]
  },
  {
   "cell_type": "markdown",
   "metadata": {},
   "source": [
    "The methods we have just seen can be used for example to make agents be \"born\" and \"die\" in the environment. We will experience this later in this session."
   ]
  },
  {
   "cell_type": "markdown",
   "metadata": {},
   "source": [
    "If you need to iterate through only existing agents, you can can use:"
   ]
  },
  {
   "cell_type": "code",
   "execution_count": null,
   "metadata": {},
   "outputs": [],
   "source": [
    "print(\"Getting existing agents with 'controller.existing_agents': \")\n",
    "for agent in controller.existing_agents:\n",
    "    print(f'Agent {agent.idx} is existing')"
   ]
  },
  {
   "cell_type": "markdown",
   "metadata": {},
   "source": [
    "And similarly for non-existing ones:"
   ]
  },
  {
   "cell_type": "code",
   "execution_count": null,
   "metadata": {},
   "outputs": [],
   "source": [
    "print(\"Getting non existing agents with 'controller.non_existing_agents': \")\n",
    "for agent in controller.non_existing_agents:\n",
    "    print(f'Agent {agent.idx} does not exist')"
   ]
  },
  {
   "cell_type": "markdown",
   "metadata": {},
   "source": [
    "For example, these shortcuts can be used to attach behaviors only to existing agents. You can technically also attach them to non-existing agents but it won't have any effect, since their behaviors won't be executed (however it might slow down the simulation):"
   ]
  },
  {
   "cell_type": "code",
   "execution_count": 15,
   "metadata": {},
   "outputs": [],
   "source": [
    "for agent in controller.existing_agents:\n",
    "    agent.attach_behavior(obstacle_avoidance)\n",
    "    agent.attach_behavior(love)"
   ]
  },
  {
   "cell_type": "markdown",
   "metadata": {},
   "source": [
    "If we print the behaviors of all agents in the simulation, we can see that the first 4 agents indeed have the same behaviors attached to them, and the 6 other ones have no behavior attached to them."
   ]
  },
  {
   "cell_type": "code",
   "execution_count": null,
   "metadata": {},
   "outputs": [],
   "source": [
    "for agent in controller.agents:\n",
    "    agent.print_behaviors()"
   ]
  },
  {
   "cell_type": "markdown",
   "metadata": {},
   "source": [
    "Now let's stop the behaviors and the motors of the agents in order to proceed to the next part of the session. "
   ]
  },
  {
   "cell_type": "code",
   "execution_count": 17,
   "metadata": {},
   "outputs": [],
   "source": [
    "for agent in controller.agents:\n",
    "    agent.detach_all_behaviors(stop_motors=True)"
   ]
  },
  {
   "cell_type": "markdown",
   "metadata": {},
   "source": [
    "## Understanding Entities routines\n",
    "\n",
    "We already saw the routine mechanism in the last session. It was used to e.g. update the energy level of the agents. In this session, we are going to see how to use routines on any kind of entities, i.e. also on objects. \n",
    "\n",
    "Let's first recall how routines are defined and attached (more detailed in session 4). They are pretty similar to behaviors. They are defined as functions with a single argument representing the entity they will be attached to (either an agent or an object). You can attach them with the `attach_routine` method of the entity (you can also precise its interval of execution with the `interval` argument), and detach them with the `detach_routine` method."
   ]
  },
  {
   "cell_type": "markdown",
   "metadata": {},
   "source": [
    "### Making an obstacle move\n",
    "\n",
    "You can easily make an object follow a particular movement with the following routines (e.g move it to the left by 2 units every time the routine is called):"
   ]
  },
  {
   "cell_type": "code",
   "execution_count": 20,
   "metadata": {},
   "outputs": [],
   "source": [
    "position_shift = 2.\n",
    "\n",
    "# Define two routines:\n",
    "\n",
    "# move the entity to the right by 2 units\n",
    "def move_entity_right_routine(entity):\n",
    "    entity.x_position += position_shift\n",
    "\n",
    "# move the entity to the top by 2 units\n",
    "def move_entity_top_routine(entity):\n",
    "    entity.y_position += position_shift"
   ]
  },
  {
   "cell_type": "markdown",
   "metadata": {},
   "source": [
    "Let's give an object specific characteristics:"
   ]
  },
  {
   "cell_type": "code",
   "execution_count": 21,
   "metadata": {},
   "outputs": [],
   "source": [
    "obj = controller.objects[16]\n",
    "obj.diameter = 10.\n",
    "obj.color = \"black\""
   ]
  },
  {
   "cell_type": "markdown",
   "metadata": {},
   "source": [
    "You can then attach a first routine, with an interval of 1 for example (the routine will be executed at each simulation step):"
   ]
  },
  {
   "cell_type": "code",
   "execution_count": 22,
   "metadata": {},
   "outputs": [],
   "source": [
    "obj.attach_routine(move_entity_right_routine, interval=1)"
   ]
  },
  {
   "cell_type": "markdown",
   "metadata": {},
   "source": [
    "Now you should see this object move left to right.\n",
    "\n",
    "You can combine this with a routine to go top which, combined with the previous routine, will make object move diagonally. "
   ]
  },
  {
   "cell_type": "code",
   "execution_count": 23,
   "metadata": {},
   "outputs": [],
   "source": [
    "obj.attach_routine(move_entity_top_routine, interval=1)"
   ]
  },
  {
   "cell_type": "markdown",
   "metadata": {},
   "source": [
    "You can then detach the routines from the object : "
   ]
  },
  {
   "cell_type": "code",
   "execution_count": 24,
   "metadata": {},
   "outputs": [],
   "source": [
    "obj.detach_routine(move_entity_right_routine)\n",
    "obj.detach_routine(move_entity_top_routine)"
   ]
  },
  {
   "cell_type": "markdown",
   "metadata": {},
   "source": [
    "You can try implementing a similar mechanism with other kind of objects, like resources."
   ]
  },
  {
   "cell_type": "markdown",
   "metadata": {},
   "source": [
    "### Making an entity change color periodically :\n",
    "\n",
    "Here we will present another example of a routine that you can use in your future projects. It will manipulate the color of entities. For instance, we will make an agent change its color every 2 simulation steps."
   ]
  },
  {
   "cell_type": "markdown",
   "metadata": {},
   "source": [
    "First, we need to better understand how we can control the colors of the entities in the simulation. You can actually set them as strings, but they are encoded in [hexedecimal format](https://htmlcolorcodes.com/) (HEX) within the entities, as we can see in the following cell:"
   ]
  },
  {
   "cell_type": "code",
   "execution_count": null,
   "metadata": {},
   "outputs": [],
   "source": [
    "agent = controller.agents[0]\n",
    "agent.color = \"red\"\n",
    "agent_color = agent.color\n",
    "print(f\"Agent color is: {agent_color}\")"
   ]
  },
  {
   "cell_type": "markdown",
   "metadata": {},
   "source": [
    "Therefore, while you can specify entitiy colors using color names (e.g. `\"red\"` above), you will need to use the hexadecimal format for e.g. comparing colors. "
   ]
  },
  {
   "cell_type": "markdown",
   "metadata": {},
   "source": [
    "In the following cell, we show how to manipulate the colors with the `matplotlib.colors` module. You can use the `to_hex` function to convert a color (either a string or a [RGB value](https://www.rapidtables.com/web/color/RGB_Color.html)) to its hexadecimal representation."
   ]
  },
  {
   "cell_type": "code",
   "execution_count": null,
   "metadata": {},
   "outputs": [],
   "source": [
    "# blue color\n",
    "print(\"Blue color\")\n",
    "print(f\"Transforming blue text color to HEX: {colors.to_hex('blue')}\")\n",
    "print(f\"Transforming blue RGB color to HEX: {colors.to_hex((0.0, 0.0, 1.0))}\")\n",
    "\n",
    "# red color\n",
    "print(\"\\nRed color\")\n",
    "print(f\"Transforming red text color to RGB: {colors.to_rgb('red')}\")\n",
    "print(f\"Transforming red HEX color to RGB: {colors.to_rgb('#ff0000')}\")"
   ]
  },
  {
   "cell_type": "markdown",
   "metadata": {},
   "source": [
    "Now that you know how to get the hex code of a color, you can make an entity change color periodically with the following routine :"
   ]
  },
  {
   "cell_type": "code",
   "execution_count": 27,
   "metadata": {},
   "outputs": [],
   "source": [
    "def change_color(entity):\n",
    "    # if the entity hex color is red, change it to blue\n",
    "    if entity.color == colors.to_hex(\"red\"):\n",
    "        entity.color = \"blue\"\n",
    "    # otherwise, change it to red\n",
    "    else:\n",
    "        entity.color = \"red\""
   ]
  },
  {
   "cell_type": "markdown",
   "metadata": {},
   "source": [
    "Then we attach it with an interval of 5 to the agent to make it change color every 5 simulation steps:"
   ]
  },
  {
   "cell_type": "code",
   "execution_count": 28,
   "metadata": {},
   "outputs": [],
   "source": [
    "agent.attach_routine(change_color, interval=5)"
   ]
  },
  {
   "cell_type": "markdown",
   "metadata": {},
   "source": [
    "In the interface, you will that the agent is now blinking between red and blue color. Let's stop it by detaching the routine:"
   ]
  },
  {
   "cell_type": "code",
   "execution_count": 29,
   "metadata": {},
   "outputs": [],
   "source": [
    "agent.detach_routine(change_color)"
   ]
  },
  {
   "cell_type": "markdown",
   "metadata": {},
   "source": [
    "This won't necessarly be useful for your next projects, but it's a good example of how you can manipulate entities in the simulation . You can also combine this with other routines to create more complex behaviors. For example, we could have this kind of routines attached to agents to indicate their health status (blinking when they have low energy), or to use selective sensing based on other agents' colors (see session 4).\n",
    "\n",
    "Let's stop the controller to proceed to the next part of the session:"
   ]
  },
  {
   "cell_type": "code",
   "execution_count": null,
   "metadata": {},
   "outputs": [],
   "source": [
    "controller.stop()"
   ]
  },
  {
   "cell_type": "markdown",
   "metadata": {},
   "source": [
    "## Understanding Controller routines\n",
    "\n",
    "We already saw how to implement and use routines for agents and objects, but we can also define routines that are not attached to specific entities. We call such routines *controller routines*. The routines of the controller are implemented and use in a very similar way as for entities. We define a controller routine as a Python function (similarly to entity routines we have seen before), but taking as argument the `controller` (instead of an agent or object as previously). The `controller.attach_routine` and `controller.detach_routine` methods manage its activation in the simulation. \n",
    "\n",
    "Let's use a controller routine to re-implement the eating mechanisms we used in previous sessions, enabling agents to \"eat\" resources when they are close to them. This is just for the sake of the exercice since we already saw a much more concise way to activate a pre-defined eating mechanism in session 3 (which behind the scene is actually implemented as a controller routine). \n",
    "\n",
    "An eating mechanism can be implemented in different ways, we will present one of them in the next cell. We start by defining the routine function, `example_eating_routine` here, with `controller` as an argument. Then, we iterate over the list of existing agents in order to make them \"eat\" resources next to them. At the level of one agent, we iterate over its list of eatable entities (`diet`). Then we check which entities corresponding to these types are existing and within the eating range of the agent, and we make them dissapear. Finally if an agent eats, we also reset its `time_since_feeding` to 0, and set its `ate` flag to True to signal he has eaten in the last simulation step.\n",
    "\n",
    "You can take a look at the commented code below (don't worry, you don't need to understand everything in details, just the general idea)."
   ]
  },
  {
   "cell_type": "code",
   "execution_count": 31,
   "metadata": {},
   "outputs": [],
   "source": [
    "def example_eating_routine(controller):\n",
    "    # iterate over all existing agents to see if they can eat any entity\n",
    "    for agent in controller.existing_agents:\n",
    "        # iterate over all entity types in the agent diet\n",
    "        for entity_type in agent.diet:\n",
    "            # transform this eatable entity type label into an idx (e.g \"resources\" -> 1)\n",
    "            entity_type = controller._subtype_label_to_idx[entity_type]\n",
    "            # get the indexes of all entities in the simulation that correspond to this eatable entity type (excluding the agent itself)\n",
    "            eatable_entities_idx = [ent.idx for ent in controller.all_entities if ent.subtype == entity_type and ent.idx != agent.idx]\n",
    "            # get the distances between the agent and all eatable entities\n",
    "            distances = agent.config.proximity_map_dist[eatable_entities_idx]\n",
    "            # check if the distance between the agent and the eatable entities is less than the eating range of the agent\n",
    "            in_range = distances < agent.eating_range\n",
    "            \n",
    "            # iterate over all eatable entities indexes to see if the agent can eat them\n",
    "            for arr_idx, ent_idx in enumerate(eatable_entities_idx):\n",
    "                # if the entity exists and is in range :\n",
    "                if in_range[arr_idx] and controller.all_entities[ent_idx].exists:\n",
    "                    # remove it from the simulation\n",
    "                    controller.remove_entity(ent_idx)\n",
    "                    # set the ate flag of the agent to True, and reset the time since feeding to 0\n",
    "                    agent.time_since_feeding = 0\n",
    "                    agent.ate = True"
   ]
  },
  {
   "cell_type": "markdown",
   "metadata": {},
   "source": [
    "The routing function defined above rely on more advanced python concepts unseen in the last sessions, such as `list comprehension`, or the `enumerate` function. If you want to know more about it you can have a look at the [Python basics tutorial](./python_basics.ipynb)."
   ]
  },
  {
   "cell_type": "markdown",
   "metadata": {},
   "source": [
    "First, run the controller again (we stopped it at the end of the last section): "
   ]
  },
  {
   "cell_type": "code",
   "execution_count": 32,
   "metadata": {},
   "outputs": [],
   "source": [
    "controller.run()"
   ]
  },
  {
   "cell_type": "markdown",
   "metadata": {},
   "source": [
    "Let's attach the `example_eating_routine` we have defined above to the controller:"
   ]
  },
  {
   "cell_type": "code",
   "execution_count": 33,
   "metadata": {},
   "outputs": [],
   "source": [
    "controller.attach_routine(example_eating_routine, interval=10)"
   ]
  },
  {
   "cell_type": "markdown",
   "metadata": {},
   "source": [
    "You can also check the routines of the `controller` with the `print_routines` method. As for entities, the important thing is to check the `Active routines` of this print statement to see which routines are actually running in the controller."
   ]
  },
  {
   "cell_type": "code",
   "execution_count": null,
   "metadata": {},
   "outputs": [],
   "source": [
    "controller.print_routines()"
   ]
  },
  {
   "cell_type": "markdown",
   "metadata": {},
   "source": [
    "Let's now define the diet of our agents (they will eat `resources`) and attach the `foraging` and `obstacle_avoidance` behaviors to them (we defined those behaviors at the start of this session):"
   ]
  },
  {
   "cell_type": "code",
   "execution_count": 35,
   "metadata": {},
   "outputs": [],
   "source": [
    "for agent in controller.existing_agents:\n",
    "    agent.diet = [\"resources\"]\n",
    "    agent.attach_behavior(foraging)\n",
    "    agent.attach_behavior(obstacle_avoidance)"
   ]
  },
  {
   "cell_type": "markdown",
   "metadata": {},
   "source": [
    "You should now see the eating mechanism in action in the simulation: whenever an agent is close enough to a resource (the green squares), that resource will disappear.  \n",
    "\n",
    "Note however that the `example_eating_routine` defined above might slow down the simulation a lot if there are many entities in the simulation. The reason is that it relies on two nested loops: a first one iterating over all existing agents, within which there is a second loop iterating over all entites. With many entities, this double iteration can be slow. If you don't need a custom eating mechanisms, we instead recommend to use the predefined one we introduced in session 3. To do this, first detach the `example_eating_routine`:"
   ]
  },
  {
   "cell_type": "code",
   "execution_count": 36,
   "metadata": {},
   "outputs": [],
   "source": [
    "controller.detach_routine(example_eating_routine)"
   ]
  },
  {
   "cell_type": "markdown",
   "metadata": {},
   "source": [
    "And start the built-in eating mechanism, which is much better optimized and run faster:"
   ]
  },
  {
   "cell_type": "code",
   "execution_count": 37,
   "metadata": {},
   "outputs": [],
   "source": [
    "controller.start_eating_mechanism()"
   ]
  },
  {
   "cell_type": "markdown",
   "metadata": {},
   "source": [
    "Also remember that you can start the automatic spawing of resources with:"
   ]
  },
  {
   "cell_type": "code",
   "execution_count": 38,
   "metadata": {},
   "outputs": [],
   "source": [
    "controller.start_resources_apparition(interval=30)"
   ]
  },
  {
   "cell_type": "markdown",
   "metadata": {},
   "source": [
    "Actually, these two mechanisms (eating and resource spawn) are also implemented as routines behind the scene. Let's stop them for now:"
   ]
  },
  {
   "cell_type": "code",
   "execution_count": 39,
   "metadata": {},
   "outputs": [],
   "source": [
    "controller.stop_eating_mechanism()\n",
    "controller.stop_resources_apparition()"
   ]
  },
  {
   "cell_type": "markdown",
   "metadata": {},
   "source": [
    "And stop the behaviors and the motors of the agents."
   ]
  },
  {
   "cell_type": "code",
   "execution_count": 40,
   "metadata": {},
   "outputs": [],
   "source": [
    "for agent in controller.existing_agents:\n",
    "    agent.detach_all_behaviors(stop_motors=True)"
   ]
  },
  {
   "cell_type": "markdown",
   "metadata": {},
   "source": [
    "## Implementing reproduction with controller routines "
   ]
  },
  {
   "cell_type": "markdown",
   "metadata": {},
   "source": [
    "Now that you understood the basics of entities and controller routines, we are going to implement an agent reproduction mechanism in the simulation. Like small organisms, our agents will be able to produce offsprings next to them. \n",
    "\n",
    "To do so, we will need to manipulate existing and non existing agents. Let's do a quick recap on a few function and discover new features that will be useful for this part of the session.\n",
    "\n",
    "If we want to make agents spawn, we first need to get a non existing agent in order to make it alive. We saw we can get the list of existing and non existing agents with the `existing_agents` and `non_existing_agents` attributes of the controller. We can actually get the indexes of the non existing agents this way:"
   ]
  },
  {
   "cell_type": "code",
   "execution_count": null,
   "metadata": {},
   "outputs": [],
   "source": [
    "non_existing_agents_idx = [agent.idx for agent in controller.non_existing_agents]\n",
    "print(non_existing_agents_idx)"
   ]
  },
  {
   "cell_type": "markdown",
   "metadata": {},
   "source": [
    "Then, we want to pick a random index inside this list, using the `np.random.choice` function (note that if you execute the function several times, you will see that the index isn't the same everytime time):"
   ]
  },
  {
   "cell_type": "code",
   "execution_count": null,
   "metadata": {},
   "outputs": [],
   "source": [
    "random_agent_idx = np.random.choice(non_existing_agents_idx)\n",
    "print(random_agent_idx)"
   ]
  },
  {
   "cell_type": "markdown",
   "metadata": {},
   "source": [
    "Now we can spawn this random non-existing agent. In order to implement a reproduction mechanism, we might want to spawn offsprings next to their parent. Let's say the agent 0 will reproduce, we can get its position with the following command :"
   ]
  },
  {
   "cell_type": "code",
   "execution_count": null,
   "metadata": {},
   "outputs": [],
   "source": [
    "agent_idx = 0\n",
    "# get agent position\n",
    "position = [agent.x_position, agent.y_position]\n",
    "print(f\"agent position is {position}\")"
   ]
  },
  {
   "cell_type": "markdown",
   "metadata": {},
   "source": [
    "If we make an offspring spawn exactly at the same position, we will raise an error. This is because the physics engine will generate infinite forces if two entities are located at the exact same place. **(Important note : never place two entities at the exact same place or the simulation will crash.)**\n",
    "\n",
    "So we need to spawn the new agent at a position that is slightly different from its parent position. To do so, we can add a small random value `epsilon` to the modify the position of the offspring with numpy. Here is a way to generate random values for the x and y axis between -5 and 5:"
   ]
  },
  {
   "cell_type": "code",
   "execution_count": null,
   "metadata": {},
   "outputs": [],
   "source": [
    "# epsilon between -max_distance and +max_distance, for both x and y axes (i.e. 2 values)\n",
    "max_epsilon_distance = 5\n",
    "epsilon = np.random.uniform(-max_epsilon_distance, max_epsilon_distance, 2)\n",
    "print(f\"epsilon = {epsilon}\")"
   ]
  },
  {
   "cell_type": "code",
   "execution_count": null,
   "metadata": {},
   "outputs": [],
   "source": [
    "# create new position by adding epsilon to the current position\n",
    "new_position = position + epsilon\n",
    "print(f\"original position: {position}\")\n",
    "print(f\"new position: {new_position}\")"
   ]
  },
  {
   "cell_type": "markdown",
   "metadata": {},
   "source": [
    "## Implementing an asexual reproduction routine\n",
    "\n",
    "With all the previous information, we can now implement a simple reproduction routine for agents. We will implement an asexual reproduction mechanism (i.e. no mating, like in e.g. bacteria), where an agent will spawn an offspring next to it when it eats a resource. \n",
    "\n",
    "To do so, we will use the `has_eaten` function of the agents, which returns to `True` when the agent has eaten since the last call of the function, `False` otherwise. We will also make the agent spawn an offspring with a smaller diameter than itself to make offsprings easily distinguishable. We will also attach behaviors to offsprings in order to make them move and eat."
   ]
  },
  {
   "cell_type": "code",
   "execution_count": 46,
   "metadata": {},
   "outputs": [],
   "source": [
    "# spawn the a new agent every time an agent has eaten\n",
    "\n",
    "offspring_diameter = 7.\n",
    "\n",
    "# Define a controller routine for asexual reproduction\n",
    "def asexual_reproduction(controller):\n",
    "    # iterate over all the existing agents in the controller\n",
    "    for agent in controller.existing_agents: \n",
    "        # check if the agent has eaten\n",
    "        if agent.has_eaten():\n",
    "            # get the index of the non-existing agents to select one and make it spawn\n",
    "            non_existing_agents_idx = [agent.idx for agent in controller.non_existing_agents]\n",
    "\n",
    "            # check if there are non existing agents (if non_existing_agents_idx is an empty list, do nothing)\n",
    "            if non_existing_agents_idx:\n",
    "                # select one non-existing agent index randomly\n",
    "                agent_idx = np.random.choice(non_existing_agents_idx)\n",
    "\n",
    "                # add some noise to the position of the parent to create the offspring position\n",
    "                epsilon = np.random.uniform(-max_epsilon_distance, max_epsilon_distance, 2)\n",
    "                parent_position = [agent.x_position, agent.y_position]\n",
    "                offspring_position = parent_position + epsilon\n",
    "\n",
    "                # make the offspring spawn at the new position\n",
    "                offspring = controller.spawn_entity(agent_idx, position=offspring_position) \n",
    "\n",
    "                # set the diameter of the offspring\n",
    "                offspring.diameter = offspring_diameter\n",
    "\n",
    "                # attach the behaviors to the offspring so it starts moving and foraging\n",
    "                offspring.attach_behavior(obstacle_avoidance)\n",
    "                offspring.attach_behavior(foraging)\n",
    "                \n",
    "                # Add resources to the diet of the offspring\n",
    "                offspring.diet = [\"resources\"]"
   ]
  },
  {
   "cell_type": "markdown",
   "metadata": {},
   "source": [
    "Let's start again the eating and resources spawning mechanisms, and attach the `obstacle_avoidance` and `foraging` behaviors to the agents. "
   ]
  },
  {
   "cell_type": "code",
   "execution_count": 47,
   "metadata": {},
   "outputs": [],
   "source": [
    "# update agents attributes and behaviors\n",
    "for agent in controller.existing_agents:\n",
    "    # set the ate flag to False to prevent the agent from spawning an offspring if they already ate before\n",
    "    agent.ate = False\n",
    "    agent.diet = [\"resources\"]\n",
    "    agent.detach_all_behaviors()\n",
    "    agent.attach_behavior(obstacle_avoidance)\n",
    "    agent.attach_behavior(foraging)\n",
    "\n",
    "# start the resource spawning and the eating mechanisms\n",
    "controller.start_resources_apparition(interval=20)\n",
    "controller.start_eating_mechanism()  # Note that this is the eating mechanism we used in session 3, which is better optimized that the one we defined above. "
   ]
  },
  {
   "cell_type": "markdown",
   "metadata": {},
   "source": [
    "Finally, let's attach the reproduction routine we just created:"
   ]
  },
  {
   "cell_type": "code",
   "execution_count": 48,
   "metadata": {},
   "outputs": [],
   "source": [
    "controller.attach_routine(asexual_reproduction, interval=10)"
   ]
  },
  {
   "cell_type": "markdown",
   "metadata": {},
   "source": [
    "Now you should have a simulation where agents procuce an offspring whenever they eat a resource! But the number of agents is still limited to 10, so it might be interesting to implement a mechanism to kill agents when they reach a certain age for example. If you want you can try to implement a dying mechanism by yourself using controller and entity routines.\n",
    "\n",
    "Let's now detach all routines and behaviors:"
   ]
  },
  {
   "cell_type": "code",
   "execution_count": null,
   "metadata": {},
   "outputs": [],
   "source": [
    "controller.detach_all_routines()\n",
    "\n",
    "for agent in controller.agents:\n",
    "    agent.detach_all_behaviors(stop_motors=True)"
   ]
  },
  {
   "cell_type": "markdown",
   "metadata": {},
   "source": [
    "## Sexual reproduction with a controller routine\n",
    "\n",
    "Nice, now we have agents that can spawn offsprings next to them when they eat. We could also think of other types of reproduction, for example if two agents are close to each other and they have both eaten, they can reproduce. This is loosely analogous to sexual reproduction in nature, where animals need to find a mate in order to reproduce. We can implement this with another controller routine.\n",
    "\n",
    "First, let's remove some agents in the scene in order to be able to spawn new ones (because we currently have a maximum of 10 agents in the simulation). Do do this let's first remove all agents:"
   ]
  },
  {
   "cell_type": "code",
   "execution_count": null,
   "metadata": {},
   "outputs": [],
   "source": [
    "for agent in controller.existing_agents:\n",
    "    controller.remove_entity(agent.idx)"
   ]
  },
  {
   "cell_type": "markdown",
   "metadata": {},
   "source": [
    "And reintroduce only the first 5 agents of the list:"
   ]
  },
  {
   "cell_type": "code",
   "execution_count": 51,
   "metadata": {},
   "outputs": [],
   "source": [
    "for agent in controller.agents[0:5]:\n",
    "    agent.exists = True"
   ]
  },
  {
   "cell_type": "markdown",
   "metadata": {},
   "source": [
    "Let's define a new variable `reproduction_range` that specifies the maximum distance between two agents enabling them to reproduce:"
   ]
  },
  {
   "cell_type": "code",
   "execution_count": 52,
   "metadata": {},
   "outputs": [],
   "source": [
    "reproduction_range = 30."
   ]
  },
  {
   "cell_type": "markdown",
   "metadata": {},
   "source": [
    "Now we can implement the reproduction routine. We will iterate over the list of existing agents, and for each agent, we will check if it can reproduce. If it is the case, we will check if it has any mate in its neighborhood to reproduce with. If it is the case, we will make them reproduce by spawning an offspring next to them:"
   ]
  },
  {
   "cell_type": "code",
   "execution_count": 53,
   "metadata": {},
   "outputs": [],
   "source": [
    "def sexual_reproduction(controller):\n",
    "    for agent in controller.existing_agents:\n",
    "        if agent.has_eaten():\n",
    "            # get the index of the other existing agents in the simulation\n",
    "            other_existing_agents_idx = [ent.idx for ent in controller.existing_agents if ent.idx != agent.idx]\n",
    "            # Compute the distances between the agent and all other existing agents\n",
    "            distances = agent.config.proximity_map_dist[other_existing_agents_idx]\n",
    "            # check if other agents are in the reproduction range\n",
    "            in_reproduction_range = distances < reproduction_range\n",
    "            # check if the agent has found a mate, if any other agent is in the reproduction range\n",
    "            found_mate = np.any(in_reproduction_range)\n",
    "        \n",
    "            # need to have found a mate in order to reproduce\n",
    "            if found_mate:\n",
    "                dead_agents_idx = [agent.idx for agent in controller.non_existing_agents]\n",
    "                if dead_agents_idx:\n",
    "                    # same steps as the asexual reproduction routine to spawn the offspring\n",
    "                    agent_idx = np.random.choice(dead_agents_idx)\n",
    "                    epsilon = np.random.uniform(-max_epsilon_distance, max_epsilon_distance, 2)\n",
    "                    position = [agent.x_position, agent.y_position]\n",
    "                    new_position = position + epsilon\n",
    "\n",
    "                    offspring = controller.spawn_entity(agent_idx, position=new_position) \n",
    "                    offspring.diameter = offspring_diameter\n",
    "                    offspring.attach_behavior(obstacle_avoidance)\n",
    "                    offspring.attach_behavior(foraging)\n",
    "\n",
    "                    # set the can_reproduce flag to False for the parent and the offspring\n",
    "                    #offspring.can_reproduce = False\n",
    "                    #agent.can_reproduce = False\n",
    "                    "
   ]
  },
  {
   "cell_type": "markdown",
   "metadata": {},
   "source": [
    "You could easily improve this mechanism. For example, you could add other constraints for the reproduction, such as having agents that need a certain energy level to reproduce, or that can only do it when they find a mate of a certain age or size. "
   ]
  },
  {
   "cell_type": "markdown",
   "metadata": {},
   "source": [
    "Now, detach the current routines of the controller, and attach the ones we just created in addition with the resource spawn and eating mechanisms:"
   ]
  },
  {
   "cell_type": "code",
   "execution_count": 54,
   "metadata": {},
   "outputs": [],
   "source": [
    "controller.detach_all_routines()\n",
    "controller.attach_routine(sexual_reproduction)\n",
    "controller.start_resources_apparition(interval=30)\n",
    "controller.start_eating_mechanism()"
   ]
  },
  {
   "cell_type": "markdown",
   "metadata": {},
   "source": [
    "Now, agents that will eat resources will be able to reproduce with a mate, and will do so if they encounter one in their reproduction range. In order to promote the collection of resources to the agents, attach `obstacle_avoidance` and `foraging` behaviors. Then to make them attractive to each other, attach the `love` behavior:"
   ]
  },
  {
   "cell_type": "code",
   "execution_count": 55,
   "metadata": {},
   "outputs": [],
   "source": [
    "for agent in controller.agents:\n",
    "    agent.detach_all_behaviors(stop_motors=True)\n",
    "    agent.attach_behavior(obstacle_avoidance)\n",
    "    # attach love behavior so agents are attracted to each other\n",
    "    agent.attach_behavior(love)\n",
    "    agent.attach_behavior(foraging)"
   ]
  },
  {
   "cell_type": "markdown",
   "metadata": {},
   "source": [
    "You should now observe a simulation where agents reproduce when they are close to each other and have eaten (with a maximum number of 10 agents).\n",
    "\n",
    "That's it, don't forget to properly close the session when you have finished:"
   ]
  },
  {
   "cell_type": "code",
   "execution_count": null,
   "metadata": {},
   "outputs": [],
   "source": [
    "controller.stop()\n",
    "stop_server_and_interface(safe_mode=False)"
   ]
  }
 ],
 "metadata": {
  "kernelspec": {
   "display_name": "env_vivarium",
   "language": "python",
   "name": "python3"
  },
  "language_info": {
   "codemirror_mode": {
    "name": "ipython",
    "version": 3
   },
   "file_extension": ".py",
   "mimetype": "text/x-python",
   "name": "python",
   "nbconvert_exporter": "python",
   "pygments_lexer": "ipython3",
   "version": "3.10.14"
  }
 },
 "nbformat": 4,
 "nbformat_minor": 1
}
