{
 "cells": [
  {
   "cell_type": "markdown",
   "metadata": {},
   "source": [
    "# Practical session 4: Modulating internal states and Sensing other agent's attributes"
   ]
  },
  {
   "cell_type": "markdown",
   "metadata": {},
   "source": [
    "In the last practical session, we saw how to run multiple behaviors in parallel on multiple agents. In this section we will see more advanced methods for combining behaviors by modulating their activations according to internal states of the agent and by allowing them to sense the attributes of others (e.g. their color or their size). "
   ]
  },
  {
   "cell_type": "markdown",
   "metadata": {},
   "source": [
    "**Reminder:** Work on a copy of this notebook and save your work as indicated at the beginning of the `session_1.ipynb` notebook.\n",
    "\n",
    "As usual, let's first import the functions `start_server_and_interface` and `stop_server_and_interface`, and the `NotebookController` class. Then start the server and interface for this session, create a controller object to interact with the simulator and run it. The code below does this:"
   ]
  },
  {
   "cell_type": "code",
   "execution_count": null,
   "metadata": {},
   "outputs": [],
   "source": [
    "from vivarium.controllers.notebook_controller import NotebookController\n",
    "from vivarium.utils.handle_server_interface import start_server_and_interface, stop_server_and_interface"
   ]
  },
  {
   "cell_type": "code",
   "execution_count": null,
   "metadata": {},
   "outputs": [],
   "source": [
    "start_server_and_interface(scene_name=\"session_4\")"
   ]
  },
  {
   "cell_type": "code",
   "execution_count": null,
   "metadata": {},
   "outputs": [],
   "source": [
    "controller = NotebookController()\n",
    "controller.run()"
   ]
  },
  {
   "cell_type": "markdown",
   "metadata": {},
   "source": [
    "Wait until the interface link shows up (it should be http://localhost:5006/run_interface or similar) and open it in a new browser window. Keep both this notebook and the interface windows open, ideally side by side.\n",
    "In the interface, you will see the scene we will use in this session. It contains three agents (the blue circles), and three different types of objects (green, orange and red squares). Each of these four types of entities is identified by a subtype name that you can access with:"
   ]
  },
  {
   "cell_type": "code",
   "execution_count": null,
   "metadata": {},
   "outputs": [],
   "source": [
    "controller.print_subtypes_list()"
   ]
  },
  {
   "cell_type": "markdown",
   "metadata": {},
   "source": [
    "`s_obstacles` stands for small obstacles (orange squares), `b_obstacles` for big obstacles (red squares) and `resources` are the green squares. `agents` are the blue circle agents. Those labels can be used to selectively sense each of these entity subtypes, as we have seen in session 3."
   ]
  },
  {
   "cell_type": "markdown",
   "metadata": {},
   "source": [
    "In order to start with a clean basis, let's first provide the definition of several behaviors. These four behaviors are simply implementations of the [Braitenberg vehicles](https://docs.google.com/presentation/d/1s6ibk_ACiJb9CERJ_8L_b4KFu9d04ZG_htUbb_YSYT4/edit#slide=id.g31e1b425a3_0_0) we have seen in class, where the `sensed_entities` (i.e. what is sensed by the proximeters) are other `agents`:"
   ]
  },
  {
   "cell_type": "code",
   "execution_count": null,
   "metadata": {},
   "outputs": [],
   "source": [
    "def fear(agent):\n",
    "    left, right = agent.sensors(sensed_entities=[\"agents\"])\n",
    "    left_wheel = left\n",
    "    right_wheel = right\n",
    "    return left_wheel, right_wheel\n",
    "\n",
    "def aggression(agent):\n",
    "    left, right = agent.sensors(sensed_entities=[\"agents\"])\n",
    "    left_wheel = right\n",
    "    right_wheel = left\n",
    "    return left_wheel, right_wheel\n",
    "\n",
    "def love(agent):\n",
    "    left, right = agent.sensors(sensed_entities=[\"agents\"])\n",
    "    left_wheel = 1 - left\n",
    "    right_wheel = 1 - right   \n",
    "    return left_wheel, right_wheel\n",
    "\n",
    "def shyness(agent):\n",
    "    left, right = agent.sensors(sensed_entities=[\"agents\"])\n",
    "    left_wheel = 1 - right\n",
    "    right_wheel = 1 - left   \n",
    "    return left_wheel, right_wheel"
   ]
  },
  {
   "cell_type": "markdown",
   "metadata": {},
   "source": [
    "We define a fifth behavior for obstacle avoidance, where obstacles are orange and red squares, labeled `s_obstacles` and `b_obstacles`."
   ]
  },
  {
   "cell_type": "code",
   "execution_count": null,
   "metadata": {},
   "outputs": [],
   "source": [
    "def obstacle_avoidance(agent):\n",
    "    left, right = agent.sensors(sensed_entities=[\"s_obstacles\", \"b_obstacles\"])\n",
    "    left_wheel = 1 - right\n",
    "    right_wheel = 1 - left   \n",
    "    return left_wheel, right_wheel"
   ]
  },
  {
   "cell_type": "markdown",
   "metadata": {},
   "source": [
    "## Analyzing agents interactions"
   ]
  },
  {
   "cell_type": "markdown",
   "metadata": {},
   "source": [
    "Let's now analyze the interaction between two agents that are equipped with different behaviors. First assign a variable to each agent of the simulation so we can easily access them indivually in the next steps. As we saw in previous sessions, the `controller.agents` is a list, and we can access its elements with Python indexing system (0 corresponding to the first element, 1 to the second etc). "
   ]
  },
  {
   "cell_type": "code",
   "execution_count": null,
   "metadata": {},
   "outputs": [],
   "source": [
    "agent_0 = controller.agents[0]\n",
    "agent_1 = controller.agents[1]\n",
    "agent_2 = controller.agents[2]"
   ]
  },
  {
   "cell_type": "markdown",
   "metadata": {},
   "source": [
    "To differentiate the agents, we will also assign them different colors:"
   ]
  },
  {
   "cell_type": "code",
   "execution_count": null,
   "metadata": {},
   "outputs": [],
   "source": [
    "agent_0.color = \"blue\"\n",
    "agent_1.color = \"cyan\"\n",
    "agent_2.color = \"black\""
   ]
  },
  {
   "cell_type": "markdown",
   "metadata": {},
   "source": [
    "**Q1:** In addition to the `obstacle_avoidance` behavior, run several combinations of the four other behaviors defined above. For example, run `obstacle_avoidance` and `fear` on `agent_0` ; and `obstacle_avoidance` and `aggression` on `agent_1`. Keep the `agent_2` still for the moment. Find two of these combinations that you consider as interesting (e.g. because they result in a relatively complex interaction pattern, or because they can be linked to standard animal behavior, e.g. prey-predator) and describe them in a few lines:"
   ]
  },
  {
   "cell_type": "code",
   "execution_count": null,
   "metadata": {},
   "outputs": [],
   "source": [
    "# Your code here"
   ]
  },
  {
   "cell_type": "markdown",
   "metadata": {},
   "source": [
    "*Your answer here*"
   ]
  },
  {
   "cell_type": "markdown",
   "metadata": {},
   "source": [
    "This session's environment contains more entities than previous ones, which might slow down the simulation. In case it is very slow on your computer, you can increase the number of steps the simulation performs on the server for each step done by the controller. To do this, open the `SIMULATOR` panel in the web interface and find the `num_steps_lax` parameter. It is set to 6 by default; you can e.g. double it to 12 to see if the simulation runs faster. Make sure to use this mechanism wisely, as increasing this number too much might lead to a simulation that is less reactive to your commands."
   ]
  },
  {
   "cell_type": "markdown",
   "metadata": {},
   "source": [
    "## Weighting behaviors"
   ]
  },
  {
   "cell_type": "markdown",
   "metadata": {},
   "source": [
    "As we have seen in the previous sesssion and in the question above, it is possible to run several behaviors in parallel on the same agent. When doing it, the motor activation sent to each wheel corresponds to the average of the motor activation returned by each behavior (this averaging is implemented internally, you don't need to worry about it). \n",
    "\n",
    "It is also possible to specify the weight of each running behavior, i.e. how much it will count in the averaging. This is done by passing an optional `weight` argument to the `attach_behavior` method. For example, if we want to run the `obstacle_avoidance` behavior with a weight of 1 and the `fear` behavior with a weight of 0.5 on `agent_2`, we write:"
   ]
  },
  {
   "cell_type": "code",
   "execution_count": null,
   "metadata": {},
   "outputs": [],
   "source": [
    "agent_2.attach_behavior(obstacle_avoidance, weight=1)\n",
    "agent_2.attach_behavior(fear, weight=0.5)"
   ]
  },
  {
   "cell_type": "markdown",
   "metadata": {},
   "source": [
    "It might be hard to effectively see the weights in action for these two behaviors as they both lead the agent to avoid other entities. In order to better visualize the effect of the weights, we will define two new behaviors with opposite effects: `aggress_all` and `avoid_all`. The `aggress_all` behavior will make the agent move towards all other entities, while the `avoid_all` behavior will make it move away from them. We will add a bigger weight to the `aggress_all` behavior than to the `avoid_all` behavior, and observe the agent's behavior."
   ]
  },
  {
   "cell_type": "code",
   "execution_count": null,
   "metadata": {},
   "outputs": [],
   "source": [
    "def aggress_all(agent):\n",
    "    left, right = agent.sensors()  # This senses all entities\n",
    "    left_wheel = right\n",
    "    right_wheel = left  \n",
    "    return left_wheel, right_wheel\n",
    "\n",
    "def avoid_all(agent):\n",
    "    left, right = agent.sensors()  # This senses all entities\n",
    "    left_wheel = 1 - right\n",
    "    right_wheel = 1 - left   \n",
    "    return left_wheel, right_wheel"
   ]
  },
  {
   "cell_type": "code",
   "execution_count": null,
   "metadata": {},
   "outputs": [],
   "source": [
    "agent_2.detach_all_behaviors()\n",
    "agent_2.attach_behavior(aggress_all, weight=1)\n",
    "agent_2.attach_behavior(avoid_all, weight=0.2)"
   ]
  },
  {
   "cell_type": "markdown",
   "metadata": {},
   "source": [
    "**Q2:** What are the effects of the weights on the agent's behavior? Why does it keep moving even when it doesn't sense anything ? Describe the observed behavior in a few lines:"
   ]
  },
  {
   "cell_type": "markdown",
   "metadata": {},
   "source": [
    "*Your answer here*"
   ]
  },
  {
   "cell_type": "markdown",
   "metadata": {},
   "source": [
    "By doing this, the wheel activations returned by the `agress_all` behavior will have more weight than those returned by the `avoid_all` behavior. For example, if `avoid_all` returns 0.6 for the left wheel, and `agress_all` returns 0.9, then the total activation of that wheel will be $(0.6 * 0.2 + 0.9 * 1) / (0.2 + 1) = 0.85$ (i.e. the average of both values weighted by their respective activation). Note that when the `weight` argument is not provided to the `attach_behavior` method, the corresponding behavior is set with a default weight of 1."
   ]
  },
  {
   "cell_type": "markdown",
   "metadata": {},
   "source": [
    "## Weighting behaviors according to internal states"
   ]
  },
  {
   "cell_type": "markdown",
   "metadata": {},
   "source": [
    "This weighting is particularly useful to activate a behavior according to some internal states of the agent. Let's consider the following scenario:\n",
    "\n",
    "- Agents can eat resources (as in the previous session)\n",
    "- Agents have a simulated \"energy level\", which decreases with time and increases whenever they consume a resource.\n",
    "- Agents execute a `foraging` behavior towards resources, with a weight depending on their current energy level: The lower the energy level, the higher the weight.\n",
    "\n",
    "In the following we will implement this scenario step by step.\n",
    "\n",
    "Let's first detach all current behaviors:"
   ]
  },
  {
   "cell_type": "code",
   "execution_count": null,
   "metadata": {},
   "outputs": [],
   "source": [
    "for agent in controller.agents:\n",
    "    agent.detach_all_behaviors(stop_motors=True)"
   ]
  },
  {
   "cell_type": "markdown",
   "metadata": {},
   "source": [
    "### Defining a foraging behavior"
   ]
  },
  {
   "cell_type": "markdown",
   "metadata": {},
   "source": [
    "Then let's define a `foraging` behavior (attraction towards resources):"
   ]
  },
  {
   "cell_type": "code",
   "execution_count": null,
   "metadata": {},
   "outputs": [],
   "source": [
    "def foraging(agent):\n",
    "    left, right = agent.sensors(sensed_entities=[\"resources\"])\n",
    "    left_activation = right\n",
    "    right_activation = left\n",
    "    return left_activation, right_activation"
   ]
  },
  {
   "cell_type": "markdown",
   "metadata": {},
   "source": [
    "We also need to add `resources` to the diet of agents to enable consuming them, as we did in session 3:"
   ]
  },
  {
   "cell_type": "code",
   "execution_count": null,
   "metadata": {},
   "outputs": [],
   "source": [
    "# Add resources to the all agents' diet\n",
    "for agent in controller.agents:\n",
    "    agent.diet = [\"resources\"]"
   ]
  },
  {
   "cell_type": "markdown",
   "metadata": {},
   "source": [
    "This way the agent will \"eat\" a resource whenever it is close to it (it will be effective only when we will have activated the eating mechanism below). \n",
    "Do not attach the `foraging` behavior yet, we'll do it later"
   ]
  },
  {
   "cell_type": "markdown",
   "metadata": {},
   "source": [
    "### Knowing when an agent has eaten something\n",
    "\n",
    "To implement the scenario proposed above, we need to continuously compute the energy level of an agent according to how much resources it has recently eaten. To do so, we first need a way to know when a agent has eaten for the last time. There are several ways of doing this that can serve in different use cases:\n",
    "\n",
    "- `agent.has_eaten()`: method returning `True` if the agent has eaten since the last call to this function, `False` otherwise (defaults to False the first time it is called).\n",
    "- `agent.time_since_feeding`: attribute indicating the time since the last time an agent has eaten (defaults to infinity when the agent has never eaten).\n",
    "- `agent.has_eaten_since(t)`: method returning if the agent has eaten since time `t`.\n",
    "\n",
    "Let's print the current values for `agent_0`:"
   ]
  },
  {
   "cell_type": "code",
   "execution_count": null,
   "metadata": {},
   "outputs": [],
   "source": [
    "print(f\"agent_0.has_eaten(): {agent_0.has_eaten()} ;  agent_0.time_since_feeding: {agent_0.time_since_feeding}\")"
   ]
  },
  {
   "cell_type": "markdown",
   "metadata": {},
   "source": [
    "We can see than when agents haven't started eating, the `has_eaten` method returns `False` and the time since feeding is infinite (`inf`). When it will eat something, the time since feeding will be reset to 0, and the `has_eaten` method will return True. Note that currently agents can't eat anything since we haven't yet activated the eating mechanism."
   ]
  },
  {
   "cell_type": "markdown",
   "metadata": {},
   "source": [
    "We can also check these values for all agents in the scene at once by iterating through the `controller.agents` list:"
   ]
  },
  {
   "cell_type": "code",
   "execution_count": null,
   "metadata": {},
   "outputs": [],
   "source": [
    "for agent in controller.agents:\n",
    "    print(f\"agent_{agent.idx}.has_eaten(): {agent.has_eaten()} ;  agent_{agent.idx}.time_since_feeding: {agent.time_since_feeding}\")"
   ]
  },
  {
   "cell_type": "markdown",
   "metadata": {},
   "source": [
    "**Q3:** Remove all current behaviors still running on the agents (if any). Then attach the `obstacle_avoidance` and `foraging` on all agents. Check that they are correctly attached and started with the `print_behaviors` method of the agents."
   ]
  },
  {
   "cell_type": "code",
   "execution_count": null,
   "metadata": {},
   "outputs": [],
   "source": [
    "# your code here"
   ]
  },
  {
   "cell_type": "markdown",
   "metadata": {},
   "source": [
    "Now let's start the eating mechanism and the spawning of resources as in session 3:"
   ]
  },
  {
   "cell_type": "code",
   "execution_count": null,
   "metadata": {},
   "outputs": [],
   "source": [
    "# Start resources apparition and eating mechanism\n",
    "controller.start_resources_apparition(interval=50)\n",
    "controller.start_eating_mechanism(interval=10)"
   ]
  },
  {
   "cell_type": "markdown",
   "metadata": {},
   "source": [
    "Let's check if the values of `has_eaten` and `time_since_feeding` evolve for all agents (execute the cell below several time and check that the values change consistently when agents eat resources):"
   ]
  },
  {
   "cell_type": "code",
   "execution_count": null,
   "metadata": {},
   "outputs": [],
   "source": [
    "for agent in controller.agents:\n",
    "    print(f\"agent_{agent.idx}.has_eaten(): {agent.has_eaten()} ;  agent_{agent.idx}.time_since_feeding: {agent.time_since_feeding}\")"
   ]
  },
  {
   "cell_type": "markdown",
   "metadata": {},
   "source": [
    "### Using routines to modulate agent's internal states"
   ]
  },
  {
   "cell_type": "markdown",
   "metadata": {},
   "source": [
    "Now we want to continuously compute the energy level of an agent, so that the level decreases slowly when nothing is eaten and increases whenever a resource is consumed. This can be done by attaching to agents what we call a **routine**. The definition of a *routine* is very similar to the definition of a *behavior*: It is defined as a Python function taking an agent as argument. The main difference is that a function defining a routine doesn't return any value (whereas a behavior always returns the left and right wheel activations). Thus, a routine corresponds to a set of instructions that are executed at a particular interval on an agent (similarly to a behavior), e.g. to compute some agent's internal states according to its interaction with the environment.\n",
    "\n",
    "Let's define a routine called `energy` that computes an energy level as specified above. In order to do so, we will first define a few parameters, such as the initial and the maximum level of energy of agents. Then, we will set an initial `energy_level` attribute to each agent:\n",
    " "
   ]
  },
  {
   "cell_type": "code",
   "execution_count": null,
   "metadata": {},
   "outputs": [],
   "source": [
    "max_energy_level = 1.\n",
    "init_energy_level = 0.5\n",
    "\n",
    "for agent in controller.agents:\n",
    "    agent.energy_level = init_energy_level"
   ]
  },
  {
   "cell_type": "markdown",
   "metadata": {},
   "source": [
    "Let's check we can access this attribute for all agents in the next cell."
   ]
  },
  {
   "cell_type": "code",
   "execution_count": null,
   "metadata": {},
   "outputs": [],
   "source": [
    "for agent in controller.agents:\n",
    "    print(f\"agent_{agent.idx} energy level is: {agent.energy_level}\")"
   ]
  },
  {
   "cell_type": "markdown",
   "metadata": {},
   "source": [
    "Now, if you execute the cell above several times, note that the `energy_level` attribute of the agents remains the same because we didn't do anything to update it yet. Let's change this by defining the `energy` routine as follows. As for a behavior, the function defining a routine takes an agent as an argument, representing the agent on which the routine will be attached. "
   ]
  },
  {
   "cell_type": "code",
   "execution_count": null,
   "metadata": {},
   "outputs": [],
   "source": [
    "# Similarly to a behavior, a routine is defined as a function that takes an agent as argument\n",
    "# The only difference is that a routine does not return anything (whereas a behavior returns the left and right wheel activations)\n",
    "def energy(agent): \n",
    "    if agent.has_eaten():\n",
    "        # if the agent has eaten a resource since the last execution of the routine, increase its energy level\n",
    "        agent.energy_level += 0.5  # This is equivalent to agent.energy_level = agent.energy_level + 0.5\n",
    "    else:\n",
    "        # decrease energy level\n",
    "        agent.energy_level -= 0.01  # otherwise (nothing eaten), decrease the energy level a bit\n",
    "    # The line below bounds the value of the energy level between 0 and max_energy_level\n",
    "    agent.energy_level = min(max_energy_level, max(agent.energy_level, 0.))"
   ]
  },
  {
   "cell_type": "markdown",
   "metadata": {},
   "source": [
    "As for a behavior, we then need to attach the routine to an agent, which is done with the `attach_routine` method. When attaching a routine, we can also pass an optional `interval` argument to specify every each step it will be executed (defaults to 1). Let's attach the `energy` routine to `agent_0` such that it is executed every 10 steps:"
   ]
  },
  {
   "cell_type": "code",
   "execution_count": null,
   "metadata": {},
   "outputs": [],
   "source": [
    "# Attach the energy routine to agent_0, which will be executed every 10 steps\n",
    "agent_0.attach_routine(energy, interval=10)"
   ]
  },
  {
   "cell_type": "markdown",
   "metadata": {},
   "source": [
    "Note that before attaching a routine where we update the attribute of an agent, we need to make sure this attribute has been previously initialized. Otherwise the routine will raise an error because it will attempt to access an agent attribute that does not exist. This is why we previously defined the `energy_level` attribute a few cells above (setting it to the initial energy value) before attaching the routine. Whenever you write a routine, you need to make sure that all attributes accessed in it have been previously initialized. \n",
    "\n",
    "\n",
    "\n",
    "Let's check that the energy level of `agent_0` changes according to time and the consumption of resources by executing several time the cell below:"
   ]
  },
  {
   "cell_type": "code",
   "execution_count": null,
   "metadata": {},
   "outputs": [],
   "source": [
    "print(agent_0.energy_level)"
   ]
  },
  {
   "cell_type": "markdown",
   "metadata": {},
   "source": [
    "**Q4:** How does the value change when the agent eats a resource ? What happens when it doesn't eat for a while ?"
   ]
  },
  {
   "cell_type": "markdown",
   "metadata": {},
   "source": [
    "*Your answer here*"
   ]
  },
  {
   "cell_type": "markdown",
   "metadata": {},
   "source": [
    "### Weighting a behavior according to an agent's internal state\n",
    "\n",
    "To complete the implementation of our scenario, we finally need to weight the `foraging` behavior according to energy level of the agent. The lower the energy level, the higher `foraging` is weighted. We have seen above how we can weight a behavior when attaching it. We can also dynamically change it (i.e. while the behavior is running on the agent) with the `change_behavior_weight` method:"
   ]
  },
  {
   "cell_type": "code",
   "execution_count": null,
   "metadata": {},
   "outputs": [],
   "source": [
    "# Change the weight of the foraging behavior on agent_0 to 0.5:\n",
    "agent_0.change_behavior_weight(foraging, new_weight=0.5)"
   ]
  },
  {
   "cell_type": "markdown",
   "metadata": {},
   "source": [
    "Try different values of the `new_weight` argument above and check that the `agent_0` (the dark blue one) behaves as expected. In particular, if the weight is set to 0, you should observe that agent no longer forage for resources."
   ]
  },
  {
   "cell_type": "markdown",
   "metadata": {},
   "source": [
    "Since we want this weight to be continuously updated according the current energy level of an agent, we can define another routine for doing this. Let's call this new routine `foraging_weight`:"
   ]
  },
  {
   "cell_type": "code",
   "execution_count": null,
   "metadata": {},
   "outputs": [],
   "source": [
    "def foraging_weight(agent):\n",
    "    # This routine changes the weight of the foraging behavior according to the current energy level\n",
    "    # The lower the energy level, the higher the weight (energy level is bounded between 0 and 1 in the energy routine)\n",
    "    # E.g., if the energy is 1 (maximum value), the behavior weight will be 0 (and vice versa)\n",
    "    agent.change_behavior_weight(foraging, 1 - agent.energy_level)"
   ]
  },
  {
   "cell_type": "markdown",
   "metadata": {},
   "source": [
    "Let's attach the `foraging_weight` routine to `agent_0`:"
   ]
  },
  {
   "cell_type": "code",
   "execution_count": null,
   "metadata": {},
   "outputs": [],
   "source": [
    "# Attach the foraging_weight routine to agent_0, which will be executed every 10 steps\n",
    "agent_0.attach_routine(foraging_weight, interval=10)"
   ]
  },
  {
   "cell_type": "markdown",
   "metadata": {},
   "source": [
    "Now the weight of the `foraging` behavior of `agent_0` is modulated by its energy level, as implemented in the `foraging_weight` routine above.  "
   ]
  },
  {
   "cell_type": "markdown",
   "metadata": {},
   "source": [
    "We can check the current weights of all attached behaviors with the `print_behaviors` method by setting the `full_infos` argument to `True`:"
   ]
  },
  {
   "cell_type": "code",
   "execution_count": null,
   "metadata": {},
   "outputs": [],
   "source": [
    "agent_0.print_behaviors(full_infos=True)"
   ]
  },
  {
   "cell_type": "markdown",
   "metadata": {},
   "source": [
    "You can re-execute the cell above several times to check that the weight of the `foraging` behavior of `agent_0` is modulated according to the energy level as expected."
   ]
  },
  {
   "cell_type": "markdown",
   "metadata": {},
   "source": [
    "You can detach the routine from an agent similarly to a behavior with the `detach_routine` and `detach_all_routines` functions, and check them with the `print_routines` function."
   ]
  },
  {
   "cell_type": "code",
   "execution_count": null,
   "metadata": {},
   "outputs": [],
   "source": [
    "# Only detach the foraging_weight routine\n",
    "agent_0.detach_routine(foraging_weight)\n",
    "\n",
    "# Detach all currently attached routines\n",
    "agent_0.detach_all_routines()"
   ]
  },
  {
   "cell_type": "markdown",
   "metadata": {},
   "source": [
    "If you re-execute the `print_behaviors` method above several times, you should observe that the weight of the `foraging_behavior` is no longer modulated by the energy level (i.e. the weight remains constant at its last value)."
   ]
  },
  {
   "cell_type": "markdown",
   "metadata": {},
   "source": [
    "### Wrapping it up\n",
    "We now have all the ingredients for our scenario. Let's wrap it up by detaching all attached behaviors and routines, attaching both the `obstacle_avoidance` and `foraging` behaviors as well as both the `energy` and `foraging_weight` routines, to all agents:"
   ]
  },
  {
   "cell_type": "code",
   "execution_count": null,
   "metadata": {},
   "outputs": [],
   "source": [
    "for agent in controller.agents: # For all agents\n",
    "    agent.detach_all_behaviors(stop_motors=True)  #Detach all previously attached behaviors\n",
    "    agent.detach_all_routines()  #Detach all previously attached routines\n",
    "    agent.attach_behavior(foraging)  # Attach the foraging behavior\n",
    "    agent.attach_behavior(obstacle_avoidance)  # Attach the obstacle avoidance behavior\n",
    "    agent.attach_routine(energy, interval=10)  # Attach the energy routine\n",
    "    agent.attach_routine(foraging_weight, interval=10)  # Attach the foraging_weight routine"
   ]
  },
  {
   "cell_type": "markdown",
   "metadata": {},
   "source": [
    "Note that the `foraging_weight` routine has to be attached **after** the `foraging` behavior, because this routine changes the weight of the behavior. If the routine is attached before the behavior, it might raise an error because it will try to access a behavior that is not yet attached.\n",
    "\n",
    "In the interface, you should observe that all agents are indeed avoiding obstacles (red and orange squares), are attracted toward resources and consume them. When they eat a few resources in a row, their energy level approaches the maximum value. In this situation, you should observe that the agents are no longer attracted toward resources, until their energy level decreases again. You can check the corresponding values by printing the energy level and the behavior weights of all agents:"
   ]
  },
  {
   "cell_type": "code",
   "execution_count": null,
   "metadata": {},
   "outputs": [],
   "source": [
    "for agent in controller.agents:\n",
    "    print(f'agent_{agent.idx}')\n",
    "    print('------------')\n",
    "    print(f'energy level: {agent.energy_level}')\n",
    "    agent.print_behaviors(full_infos=True)\n",
    "    print('\\n')"
   ]
  },
  {
   "cell_type": "markdown",
   "metadata": {},
   "source": [
    "**Q5:** Detach the `energy` routine on all agents (only this routine, not the `foraging_weight` one) and set the energy level of all agents to 1 (i.e. the maximum value). Describe what happens in this case."
   ]
  },
  {
   "cell_type": "code",
   "execution_count": null,
   "metadata": {},
   "outputs": [],
   "source": [
    "# Your code here"
   ]
  },
  {
   "cell_type": "markdown",
   "metadata": {},
   "source": [
    "*Your answer here*"
   ]
  },
  {
   "cell_type": "markdown",
   "metadata": {},
   "source": [
    "Now detach all the behaviors and the routines before going to the next section."
   ]
  },
  {
   "cell_type": "code",
   "execution_count": null,
   "metadata": {},
   "outputs": [],
   "source": [
    "for agent in controller.agents:\n",
    "    agent.detach_all_routines()\n",
    "    agent.detach_all_behaviors(stop_motors=True)"
   ]
  },
  {
   "cell_type": "markdown",
   "metadata": {},
   "source": [
    "## Sensing entity's attributes"
   ]
  },
  {
   "cell_type": "markdown",
   "metadata": {},
   "source": [
    "It can be useful to allow an agent to sense attributes of other entities. As a reminder, we call \"entity\" any item present on the scene, either agents or objects (as explained in the [web interface tutorial](../tutorials/web_interface_tutorial.md)). For example, one might want to define different species of agents (cats and mouses for example) such that how an agent interacts with another depends on their respective species. To achieve this we can define arbitrary attributes of agents, e.g `agent.species = \"cat\"` and that attribute can be \"sensed\" by other agents whenever it is detected by a proximeter sensor. Let's try it with three agents. \n",
    "\n",
    "We define a `species` atttribute for all agents (`species` is an arbitrary attribute name, it could be anything else). The species of `agent_0` is `\"cat\"` and we make it bigger, and the species of `agent_0` and `agent_1` is  `\"mouse\"`  and we maked them smaller. We also  change the color of mouses to distinguish them from the cat:"
   ]
  },
  {
   "cell_type": "code",
   "execution_count": null,
   "metadata": {},
   "outputs": [],
   "source": [
    "# set attributes of agent 0\n",
    "agent_0.species = \"cat\"\n",
    "agent_0.diameter = 12.\n",
    "\n",
    "# set the same attributes for agent 1 and agent 2, and change their color\n",
    "agent_1.species = agent_2.species = \"mouse\"\n",
    "agent_1.diameter = agent_2.diameter = 7.\n",
    "agent_1.color = agent_2.color = \"cyan\""
   ]
  },
  {
   "cell_type": "markdown",
   "metadata": {},
   "source": [
    "So we have one cat and two mouses. Place the agents (either with the interface or with code) so that `agent_2` (mouse) is sensing `agent_0` (cat) on its left proximeter and `agent_1` (mouse) on its right proximeter. You can set the position of an entity by using its `x_position` and `y_position` attributes. For instance you can do it with the following commands:"
   ]
  },
  {
   "cell_type": "code",
   "execution_count": null,
   "metadata": {},
   "outputs": [],
   "source": [
    "from numpy import pi  # import the number pi, we'll use it to set the agent orientation\n",
    "\n",
    "# First place the agent 2 at a specific location, and make it face the top of the environment\n",
    "agent_2.x_position = 150\n",
    "agent_2.y_position = 150\n",
    "agent_2.orientation = pi / 2  # Orientations are specified in radians, with 0 corresponding to the left direction. He we set it to pi / 2, making the agent face the top direction. "
   ]
  },
  {
   "cell_type": "code",
   "execution_count": null,
   "metadata": {},
   "outputs": [],
   "source": [
    "# Then, place the two other agents accordingly so they are sensed on the left and right of agent 2\n",
    "agent_0.x_position = 130\n",
    "agent_0.y_position = 170\n",
    "\n",
    "agent_1.x_position = 170\n",
    "agent_1.y_position = 170"
   ]
  },
  {
   "attachments": {
    "image.png": {
     "image/png": "[encoded data removed]"
    }
   },
   "cell_type": "markdown",
   "metadata": {},
   "source": [
    "Just make sure there are no objects sensed between `agent_2` (at the bottom) and the two other agents. You can manually move the objects in the interface if it is the case. The center of your scene should look roughly like this image:\n",
    "\n",
    "![image.png](attachment:image.png)\n",
    "\n",
    "Then, to return the entities sensed by the left and right proximeters of `agent_2`, we can use the `entity_sensors` method of the agents. This returns a reference to the closest left and right entities within the agent field of view, if any, and `None` otherwise. "
   ]
  },
  {
   "cell_type": "code",
   "execution_count": null,
   "metadata": {},
   "outputs": [],
   "source": [
    "ent_left, ent_right = agent_2.entity_sensors()"
   ]
  },
  {
   "cell_type": "markdown",
   "metadata": {},
   "source": [
    "We can check what are the entities sensed by an agent by running the following cell. Let's analyze it with more details. First, we print infos for the entity sensed by the left sensor. We start by ensuring it exists with `if ent_left:`, because it is possible that no entity is sensed and this value will therefore be `None`. Then if the entity exists, we print its infos with the `print_infos()` method, else we just print that there are no entity sensed on this side. We do the same on the right side."
   ]
  },
  {
   "cell_type": "code",
   "execution_count": null,
   "metadata": {},
   "outputs": [],
   "source": [
    "# Print the infos of the sensed entities\n",
    "print(\"Entity sensed by the left sensor:\")\n",
    "if ent_left:\n",
    "    ent_left.print_infos()\n",
    "else:\n",
    "    print(\"No entity sensed\")\n",
    "\n",
    "print(\"Entity sensed by the right sensor:\")\n",
    "if ent_right:\n",
    "    ent_right.print_infos()\n",
    "\n",
    "else:\n",
    "    print(\"No entity sensed\")"
   ]
  },
  {
   "cell_type": "markdown",
   "metadata": {},
   "source": [
    "If the three agents were placed as specified above, the left entity should be the `agent_O` (Idx: 0) and the right entity should be `agent_1` (Idx: 1). Note that the `ent_left` and `ent_right` entities are the exact same as the `agent_0` and `agent_1` ones, respectively. In Python, we can check they are the same using the `==` sign: "
   ]
  },
  {
   "cell_type": "code",
   "execution_count": null,
   "metadata": {},
   "outputs": [],
   "source": [
    "ent_left == agent_0"
   ]
  },
  {
   "cell_type": "markdown",
   "metadata": {},
   "source": [
    "If the cell above returns `True`, it means that the left entity returned by the `agent_2.entity_sensors()` method is (literally) `agent_0`. We can therefore manipulate the `ent_left` variable the exact same way we would manipulate any agent variable. Let's for example access its diameter:"
   ]
  },
  {
   "cell_type": "code",
   "execution_count": null,
   "metadata": {},
   "outputs": [],
   "source": [
    "print(ent_left.diameter)"
   ]
  },
  {
   "cell_type": "markdown",
   "metadata": {},
   "source": [
    "and its species (that was defined above):"
   ]
  },
  {
   "cell_type": "code",
   "execution_count": null,
   "metadata": {},
   "outputs": [],
   "source": [
    "print(ent_left.species)"
   ]
  },
  {
   "cell_type": "markdown",
   "metadata": {},
   "source": [
    "We can also directly sense specific attributes of the sensed entities in a single line of code with the `attribute_sensors` method. The method expects a `sensed_attribute` argument, indicating which attribute we want the agent to sense (e.g 'diameter', 'species', etc.). "
   ]
  },
  {
   "cell_type": "markdown",
   "metadata": {},
   "source": [
    "For example, let's directly access the `diameter` attribute of the entities sensed by `agent_2`:"
   ]
  },
  {
   "cell_type": "code",
   "execution_count": null,
   "metadata": {},
   "outputs": [],
   "source": [
    "l_attr, r_attr = agent_2.attribute_sensors(sensed_attribute=\"diameter\")\n",
    "print(f\"Diameter of the entity sensed by the left sensor: {l_attr}\")\n",
    "print(f\"Diameter of the entity sensed by the right sensor: {r_attr}\")"
   ]
  },
  {
   "cell_type": "markdown",
   "metadata": {},
   "source": [
    "If you correctly positioned the three agents as specified above, it should return two numbers indicating the diameter of the agents sensed by the left and right sensors of `agent_2`. Otherwise, it is possible that the value of one sensor returns `None`: in that case, it means that either no entity was sensed, or that the attribute does not exist on the sensed entity. We can return another value than `None` in that case by specifying a `default_value` argument. The `attribute_sensors` method will return the given attribute of the left and right sensed entities if it exists, and the default value otherwise."
   ]
  },
  {
   "cell_type": "markdown",
   "metadata": {},
   "source": [
    "Let's access the `species` attribute of the sensed entities, setting `default_value` to the string `\"unknown\"`. If no entity is detected by the sensor, or if the sensed entity has no `species` attribute (it will be e.g. the case if the sensed entity is an object), the method will return 'unknown'."
   ]
  },
  {
   "cell_type": "code",
   "execution_count": null,
   "metadata": {},
   "outputs": [],
   "source": [
    "l_attr, r_attr = agent_2.attribute_sensors(sensed_attribute=\"species\", default_value=\"unknown\")\n",
    "print(f\"Left: {l_attr} Right: {r_attr}\")"
   ]
  },
  {
   "cell_type": "markdown",
   "metadata": {},
   "source": [
    "Note that these two methods, `entity_sensors` and `attribute_sensors`, work with any type of sensed entities, either agent or objects.\n",
    "\n",
    "**Q6:** Define an `age` attribute on all agents and write the code to sense it. Then write the code to sense the `orientation` attribute of any entity (the `orientation` attribute already exist on both agents and objects, no need to define it). "
   ]
  },
  {
   "cell_type": "code",
   "execution_count": null,
   "metadata": {},
   "outputs": [],
   "source": [
    "# Your code here"
   ]
  },
  {
   "cell_type": "markdown",
   "metadata": {},
   "source": [
    "By moving agents in the scene (either on the web interface of with code), check that an agent can indeed sense the `age` attribute of other agents, but that the `default_value` is returned when it instead senses an object. Also check that to `orientation` attribute can be sensed on any entity, either agents or objects."
   ]
  },
  {
   "cell_type": "markdown",
   "metadata": {},
   "source": [
    "The methods explained above enable to implement more complex scenarios. Let's for example constrain the `fear` behavior so that mouses are only afraid by the cat but not by the other mouse:"
   ]
  },
  {
   "cell_type": "code",
   "execution_count": null,
   "metadata": {},
   "outputs": [],
   "source": [
    "def fear_cat(agent):\n",
    "    # Access the proximeter values as we did in previous sessions, selectively sensing other agents\n",
    "    left, right = agent.sensors(sensed_entities=[\"agents\"])\n",
    "\n",
    "    # Access the species attribute of the sensed entities\n",
    "    left_species, right_species = agent.attribute_sensors(sensed_attribute=\"species\")\n",
    "    \n",
    "    # Compute wheel activation depending on whether a cat was sensed or not\n",
    "    left_activation = left if left_species == \"cat\" else 0  # set the left wheel to the left proximeter value (i.e. fear behavior) if the sensed entity is a cat, 0 otherwise\n",
    "    right_activation = right if right_species == \"cat\" else 0  # Idem on the right side\n",
    "    \n",
    "    # Return wheel activations as usual\n",
    "    return left_activation, right_activation"
   ]
  },
  {
   "cell_type": "markdown",
   "metadata": {},
   "source": [
    "Attach the obstacle avoidance on all agents to make them move."
   ]
  },
  {
   "cell_type": "code",
   "execution_count": null,
   "metadata": {},
   "outputs": [],
   "source": [
    "for agent in controller.agents:\n",
    "    agent.attach_behavior(obstacle_avoidance)"
   ]
  },
  {
   "cell_type": "markdown",
   "metadata": {},
   "source": [
    "Also attach the `fear_cat` behavior on the two mouses:"
   ]
  },
  {
   "cell_type": "code",
   "execution_count": null,
   "metadata": {},
   "outputs": [],
   "source": [
    "for agent in controller.agents:\n",
    "    if agent.species == \"mouse\":  # Only attach the fear_cat behavior to mouse \n",
    "        agent.attach_behavior(fear_cat)"
   ]
  },
  {
   "cell_type": "markdown",
   "metadata": {},
   "source": [
    "Check in the simulator that the two mouses (small cyan agents) are now avoiding the cat (bigger dark blue agent) but not the other mouse.\n",
    "\n",
    "We can also modify the `species` attribute of agents on the fly. Let's swap the species of `agent_0` and `agent_1`:"
   ]
  },
  {
   "cell_type": "code",
   "execution_count": null,
   "metadata": {},
   "outputs": [],
   "source": [
    "# Change agent_O to a green mouse\n",
    "agent_0.species = \"mouse\"\n",
    "agent_0.diameter = 7.\n",
    "agent_0.color = \"green\"\n",
    "\n",
    "# Change agent_1 to a blue cat\n",
    "agent_1.species = \"cat\"\n",
    "agent_1.diameter = 12.\n",
    "agent_1.color = \"blue\"\n",
    "\n",
    "# Since agent_1 is now a cat, we can detach the fear_cat behavior from it\n",
    "agent_1.detach_behavior(fear_cat)"
   ]
  },
  {
   "cell_type": "markdown",
   "metadata": {},
   "source": [
    "Check in the simulator that `agent_2` (cyan mouse) is now avoiding `agent_1` (the new cat) but not `agent_0` (the new green mouse). "
   ]
  },
  {
   "cell_type": "markdown",
   "metadata": {},
   "source": [
    "**Q7:** Use the new functionalities we have seen in this session to design the following scenario:\n",
    "The three agents are equipped with behaviors to avoid obstacles and forage for resources, as well as being attracted or repulsed by other agents (i.e. 4 behaviors in total). Attraction and repulsion depend on the energy level of the sensed agent: the higher this level the more attraction, the lower this level the more repulsion. "
   ]
  },
  {
   "cell_type": "code",
   "execution_count": null,
   "metadata": {},
   "outputs": [],
   "source": [
    "# first detach all the potential behaviors and routines currently attached\n",
    "for agent in controller.agents:\n",
    "    agent.detach_all_behaviors(stop_motors=True)\n",
    "    agent.detach_all_routines()"
   ]
  },
  {
   "cell_type": "code",
   "execution_count": null,
   "metadata": {},
   "outputs": [],
   "source": [
    "# Your code here\n"
   ]
  },
  {
   "cell_type": "markdown",
   "metadata": {},
   "source": [
    "That's it for this session. As usual, don't forget to properly close it with:"
   ]
  },
  {
   "cell_type": "code",
   "execution_count": null,
   "metadata": {},
   "outputs": [],
   "source": [
    "stop_server_and_interface(safe_mode=False)\n",
    "controller.stop()"
   ]
  },
  {
   "cell_type": "markdown",
   "metadata": {},
   "source": [
    "Now that you finished this session, you can jump to :\n",
    "\n",
    "- [session 5](session_5_logging.ipynb) : How to log and plot data about the simulation "
   ]
  }
 ],
 "metadata": {
  "kernelspec": {
   "display_name": "Python 3 (ipykernel)",
   "language": "python",
   "name": "python3"
  },
  "language_info": {
   "codemirror_mode": {
    "name": "ipython",
    "version": 3
   },
   "file_extension": ".py",
   "mimetype": "text/x-python",
   "name": "python",
   "nbconvert_exporter": "python",
   "pygments_lexer": "ipython3",
   "version": "3.10.14"
  }
 },
 "nbformat": 4,
 "nbformat_minor": 4
}
